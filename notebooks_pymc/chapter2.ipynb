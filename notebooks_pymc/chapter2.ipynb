{
 "cells": [
  {
   "cell_type": "markdown",
   "metadata": {},
   "source": [
    "# 前準備"
   ]
  },
  {
   "cell_type": "code",
   "execution_count": 1,
   "metadata": {},
   "outputs": [],
   "source": [
    "# 用いるライブラリのインポート\n",
    "import hashlib\n",
    "\n",
    "import numpy as np\n",
    "import polars as pl\n",
    "import polars.selectors as cs\n",
    "pl.Config(fmt_str_lengths = 50, tbl_cols = 100, tbl_rows = 100)\n",
    "import statsmodels.formula.api as smf\n",
    "\n",
    "import matplotlib.pyplot as plt\n",
    "import japanize_matplotlib\n",
    "import seaborn as sns\n",
    "%matplotlib inline\n",
    "\n",
    "import arviz as az\n",
    "import pymc as pm\n",
    "import pytensor.tensor as pt\n",
    "az.style.use(\"arviz-darkgrid\")\n",
    "\n",
    "import joblib\n",
    "\n",
    "URL_CH2_LOGDATA = \"https://raw.githubusercontent.com/HirotakeIto/intro_to_impact_evaluation_with_python/main/data/ch2_logdata.csv\"\n",
    "URL_LENTA_DATA = \"https://raw.githubusercontent.com/HirotakeIto/intro_to_impact_evaluation_with_python/main/data/lenta_dataset.csv\""
   ]
  },
  {
   "cell_type": "markdown",
   "metadata": {},
   "source": [
    "# pythonによるプッシュ通知施策効果の検証"
   ]
  },
  {
   "cell_type": "markdown",
   "metadata": {},
   "source": [
    "#### プログラム2.4 A/B テストによるプッシュ通知施策の効果検証"
   ]
  },
  {
   "cell_type": "markdown",
   "metadata": {},
   "source": [
    "前準備：データの取得と確認"
   ]
  },
  {
   "cell_type": "code",
   "execution_count": 2,
   "metadata": {},
   "outputs": [
    {
     "data": {
      "text/html": [
       "<div><style>\n",
       ".dataframe > thead > tr,\n",
       ".dataframe > tbody > tr {\n",
       "  text-align: right;\n",
       "  white-space: pre-wrap;\n",
       "}\n",
       "</style>\n",
       "<small>shape: (2, 4)</small><table border=\"1\" class=\"dataframe\"><thead><tr><th>is_treatment</th><th>food_share_15d</th><th>age</th><th>is_women</th></tr><tr><td>i64</td><td>f64</td><td>f64</td><td>f64</td></tr></thead><tbody><tr><td>0</td><td>0.346</td><td>43.579</td><td>0.619</td></tr><tr><td>1</td><td>0.349</td><td>43.803</td><td>0.63</td></tr></tbody></table></div>"
      ],
      "text/plain": [
       "shape: (2, 4)\n",
       "┌──────────────┬────────────────┬────────┬──────────┐\n",
       "│ is_treatment ┆ food_share_15d ┆ age    ┆ is_women │\n",
       "│ ---          ┆ ---            ┆ ---    ┆ ---      │\n",
       "│ i64          ┆ f64            ┆ f64    ┆ f64      │\n",
       "╞══════════════╪════════════════╪════════╪══════════╡\n",
       "│ 0            ┆ 0.346          ┆ 43.579 ┆ 0.619    │\n",
       "│ 1            ┆ 0.349          ┆ 43.803 ┆ 0.63     │\n",
       "└──────────────┴────────────────┴────────┴──────────┘"
      ]
     },
     "metadata": {},
     "output_type": "display_data"
    }
   ],
   "source": [
    "# データの取得\n",
    "df = pl.read_csv(URL_LENTA_DATA)\n",
    "# 共変量がバランスしているかを調べる\n",
    "df_balance_test = (\n",
    "    df.group_by(\"is_treatment\")\n",
    "    .agg([\n",
    "        pl.mean(\"food_share_15d\").round(decimals = 3),\n",
    "        pl.mean(\"age\").round(decimals = 3),\n",
    "        pl.mean(\"is_women\").round(decimals = 3),\n",
    "    ])\n",
    ")\n",
    "display(df_balance_test)"
   ]
  },
  {
   "cell_type": "markdown",
   "metadata": {},
   "source": [
    "書籍の回帰分析"
   ]
  },
  {
   "cell_type": "code",
   "execution_count": 3,
   "metadata": {},
   "outputs": [
    {
     "data": {
      "text/html": [
       "<table class=\"simpletable\">\n",
       "<caption>OLS Regression Results</caption>\n",
       "<tr>\n",
       "  <th>Dep. Variable:</th>      <td>response_att</td>   <th>  R-squared:         </th> <td>   0.000</td> \n",
       "</tr>\n",
       "<tr>\n",
       "  <th>Model:</th>                   <td>OLS</td>       <th>  Adj. R-squared:    </th> <td>   0.000</td> \n",
       "</tr>\n",
       "<tr>\n",
       "  <th>Method:</th>             <td>Least Squares</td>  <th>  F-statistic:       </th> <td>   7.890</td> \n",
       "</tr>\n",
       "<tr>\n",
       "  <th>Date:</th>             <td>Sat, 15 Jun 2024</td> <th>  Prob (F-statistic):</th>  <td>0.00497</td> \n",
       "</tr>\n",
       "<tr>\n",
       "  <th>Time:</th>                 <td>09:53:36</td>     <th>  Log-Likelihood:    </th> <td> -12692.</td> \n",
       "</tr>\n",
       "<tr>\n",
       "  <th>No. Observations:</th>      <td> 50000</td>      <th>  AIC:               </th> <td>2.539e+04</td>\n",
       "</tr>\n",
       "<tr>\n",
       "  <th>Df Residuals:</th>          <td> 49998</td>      <th>  BIC:               </th> <td>2.541e+04</td>\n",
       "</tr>\n",
       "<tr>\n",
       "  <th>Df Model:</th>              <td>     1</td>      <th>                     </th>     <td> </td>    \n",
       "</tr>\n",
       "<tr>\n",
       "  <th>Covariance Type:</th>      <td>nonrobust</td>    <th>                     </th>     <td> </td>    \n",
       "</tr>\n",
       "</table>\n",
       "<table class=\"simpletable\">\n",
       "<tr>\n",
       "        <td></td>          <th>coef</th>     <th>std err</th>      <th>t</th>      <th>P>|t|</th>  <th>[0.025</th>    <th>0.975]</th>  \n",
       "</tr>\n",
       "<tr>\n",
       "  <th>Intercept</th>    <td>    0.1024</td> <td>    0.003</td> <td>   36.412</td> <td> 0.000</td> <td>    0.097</td> <td>    0.108</td>\n",
       "</tr>\n",
       "<tr>\n",
       "  <th>is_treatment</th> <td>    0.0091</td> <td>    0.003</td> <td>    2.809</td> <td> 0.005</td> <td>    0.003</td> <td>    0.015</td>\n",
       "</tr>\n",
       "</table>\n",
       "<table class=\"simpletable\">\n",
       "<tr>\n",
       "  <th>Omnibus:</th>       <td>23649.035</td> <th>  Durbin-Watson:     </th> <td>   1.998</td> \n",
       "</tr>\n",
       "<tr>\n",
       "  <th>Prob(Omnibus):</th>  <td> 0.000</td>   <th>  Jarque-Bera (JB):  </th> <td>90406.287</td>\n",
       "</tr>\n",
       "<tr>\n",
       "  <th>Skew:</th>           <td> 2.505</td>   <th>  Prob(JB):          </th> <td>    0.00</td> \n",
       "</tr>\n",
       "<tr>\n",
       "  <th>Kurtosis:</th>       <td> 7.277</td>   <th>  Cond. No.          </th> <td>    3.81</td> \n",
       "</tr>\n",
       "</table><br/><br/>Notes:<br/>[1] Standard Errors assume that the covariance matrix of the errors is correctly specified."
      ],
      "text/latex": [
       "\\begin{center}\n",
       "\\begin{tabular}{lclc}\n",
       "\\toprule\n",
       "\\textbf{Dep. Variable:}    &  response\\_att   & \\textbf{  R-squared:         } &     0.000   \\\\\n",
       "\\textbf{Model:}            &       OLS        & \\textbf{  Adj. R-squared:    } &     0.000   \\\\\n",
       "\\textbf{Method:}           &  Least Squares   & \\textbf{  F-statistic:       } &     7.890   \\\\\n",
       "\\textbf{Date:}             & Sat, 15 Jun 2024 & \\textbf{  Prob (F-statistic):} &  0.00497    \\\\\n",
       "\\textbf{Time:}             &     09:53:36     & \\textbf{  Log-Likelihood:    } &   -12692.   \\\\\n",
       "\\textbf{No. Observations:} &       50000      & \\textbf{  AIC:               } & 2.539e+04   \\\\\n",
       "\\textbf{Df Residuals:}     &       49998      & \\textbf{  BIC:               } & 2.541e+04   \\\\\n",
       "\\textbf{Df Model:}         &           1      & \\textbf{                     } &             \\\\\n",
       "\\textbf{Covariance Type:}  &    nonrobust     & \\textbf{                     } &             \\\\\n",
       "\\bottomrule\n",
       "\\end{tabular}\n",
       "\\begin{tabular}{lcccccc}\n",
       "                       & \\textbf{coef} & \\textbf{std err} & \\textbf{t} & \\textbf{P$> |$t$|$} & \\textbf{[0.025} & \\textbf{0.975]}  \\\\\n",
       "\\midrule\n",
       "\\textbf{Intercept}     &       0.1024  &        0.003     &    36.412  &         0.000        &        0.097    &        0.108     \\\\\n",
       "\\textbf{is\\_treatment} &       0.0091  &        0.003     &     2.809  &         0.005        &        0.003    &        0.015     \\\\\n",
       "\\bottomrule\n",
       "\\end{tabular}\n",
       "\\begin{tabular}{lclc}\n",
       "\\textbf{Omnibus:}       & 23649.035 & \\textbf{  Durbin-Watson:     } &     1.998  \\\\\n",
       "\\textbf{Prob(Omnibus):} &    0.000  & \\textbf{  Jarque-Bera (JB):  } & 90406.287  \\\\\n",
       "\\textbf{Skew:}          &    2.505  & \\textbf{  Prob(JB):          } &      0.00  \\\\\n",
       "\\textbf{Kurtosis:}      &    7.277  & \\textbf{  Cond. No.          } &      3.81  \\\\\n",
       "\\bottomrule\n",
       "\\end{tabular}\n",
       "%\\caption{OLS Regression Results}\n",
       "\\end{center}\n",
       "\n",
       "Notes: \\newline\n",
       " [1] Standard Errors assume that the covariance matrix of the errors is correctly specified."
      ],
      "text/plain": [
       "<class 'statsmodels.iolib.summary.Summary'>\n",
       "\"\"\"\n",
       "                            OLS Regression Results                            \n",
       "==============================================================================\n",
       "Dep. Variable:           response_att   R-squared:                       0.000\n",
       "Model:                            OLS   Adj. R-squared:                  0.000\n",
       "Method:                 Least Squares   F-statistic:                     7.890\n",
       "Date:                Sat, 15 Jun 2024   Prob (F-statistic):            0.00497\n",
       "Time:                        09:53:36   Log-Likelihood:                -12692.\n",
       "No. Observations:               50000   AIC:                         2.539e+04\n",
       "Df Residuals:                   49998   BIC:                         2.541e+04\n",
       "Df Model:                           1                                         \n",
       "Covariance Type:            nonrobust                                         \n",
       "================================================================================\n",
       "                   coef    std err          t      P>|t|      [0.025      0.975]\n",
       "--------------------------------------------------------------------------------\n",
       "Intercept        0.1024      0.003     36.412      0.000       0.097       0.108\n",
       "is_treatment     0.0091      0.003      2.809      0.005       0.003       0.015\n",
       "==============================================================================\n",
       "Omnibus:                    23649.035   Durbin-Watson:                   1.998\n",
       "Prob(Omnibus):                  0.000   Jarque-Bera (JB):            90406.287\n",
       "Skew:                           2.505   Prob(JB):                         0.00\n",
       "Kurtosis:                       7.277   Cond. No.                         3.81\n",
       "==============================================================================\n",
       "\n",
       "Notes:\n",
       "[1] Standard Errors assume that the covariance matrix of the errors is correctly specified.\n",
       "\"\"\""
      ]
     },
     "execution_count": 3,
     "metadata": {},
     "output_type": "execute_result"
    }
   ],
   "source": [
    "result = smf.ols(formula = \"response_att ~ is_treatment\", data = df).fit()\n",
    "result.summary()"
   ]
  },
  {
   "cell_type": "markdown",
   "metadata": {},
   "source": [
    "ベイズ線形回帰\\\n",
    "顧客が来訪するか否かは、確率 $p$ のベルヌーイ分布に従う確率変数と見て分析を行う。\\\n",
    "目的変数 $y$ = ```response_att```、 特徴量 $W_i$ = ```is_treatment``` として一般化線形回帰分析を行う。\n",
    "\n",
    "$$\n",
    "\\begin{align}\n",
    "y &\\sim \\mathcal{Be} \\bigl( p \\bigr)\\\\\n",
    "p &= \\beta _0 + \\tau W_i\\\\\n",
    "\\beta _0 &\\sim \\mathcal{N} \\bigl( 0.5 , 1)\\\\\n",
    "\\tau &\\sim \\mathcal{N} \\bigl( 0 , 1)\\\\\n",
    "\\end{align}\n",
    "$$"
   ]
  },
  {
   "cell_type": "code",
   "execution_count": 4,
   "metadata": {},
   "outputs": [
    {
     "data": {
      "image/svg+xml": [
       "<?xml version=\"1.0\" encoding=\"UTF-8\" standalone=\"no\"?>\n",
       "<!DOCTYPE svg PUBLIC \"-//W3C//DTD SVG 1.1//EN\"\n",
       " \"http://www.w3.org/Graphics/SVG/1.1/DTD/svg11.dtd\">\n",
       "<!-- Generated by graphviz version 11.0.0 (0)\n",
       " -->\n",
       "<!-- Pages: 1 -->\n",
       "<svg width=\"190pt\" height=\"447pt\"\n",
       " viewBox=\"0.00 0.00 190.02 446.63\" xmlns=\"http://www.w3.org/2000/svg\" xmlns:xlink=\"http://www.w3.org/1999/xlink\">\n",
       "<g id=\"graph0\" class=\"graph\" transform=\"scale(1 1) rotate(0) translate(4 442.63)\">\n",
       "<polygon fill=\"white\" stroke=\"none\" points=\"-4,4 -4,-442.63 186.02,-442.63 186.02,4 -4,4\"/>\n",
       "<g id=\"clust1\" class=\"cluster\">\n",
       "<title>clusterobs_id (50000)</title>\n",
       "<path fill=\"none\" stroke=\"black\" d=\"M66.01,-8C66.01,-8 140.01,-8 140.01,-8 146.01,-8 152.01,-14 152.01,-20 152.01,-20 152.01,-94 152.01,-94 152.01,-100 146.01,-106 140.01,-106 140.01,-106 66.01,-106 66.01,-106 60.01,-106 54.01,-100 54.01,-94 54.01,-94 54.01,-20 54.01,-20 54.01,-14 60.01,-8 66.01,-8\"/>\n",
       "<text text-anchor=\"middle\" x=\"102.76\" y=\"-15.2\" font-family=\"Times New Roman,serif\" font-size=\"14.00\">obs_id (50000)</text>\n",
       "</g>\n",
       "<g id=\"clust2\" class=\"cluster\">\n",
       "<title>cluster50000</title>\n",
       "<path fill=\"none\" stroke=\"black\" d=\"M45.01,-114C45.01,-114 137.01,-114 137.01,-114 143.01,-114 149.01,-120 149.01,-126 149.01,-126 149.01,-317.32 149.01,-317.32 149.01,-323.32 143.01,-329.32 137.01,-329.32 137.01,-329.32 45.01,-329.32 45.01,-329.32 39.01,-329.32 33.01,-323.32 33.01,-317.32 33.01,-317.32 33.01,-126 33.01,-126 33.01,-120 39.01,-114 45.01,-114\"/>\n",
       "<text text-anchor=\"middle\" x=\"124.14\" y=\"-121.2\" font-family=\"Times New Roman,serif\" font-size=\"14.00\">50000</text>\n",
       "</g>\n",
       "<!-- β -->\n",
       "<g id=\"node1\" class=\"node\">\n",
       "<title>β</title>\n",
       "<ellipse fill=\"none\" stroke=\"black\" cx=\"41.01\" cy=\"-397.98\" rx=\"41.01\" ry=\"40.66\"/>\n",
       "<text text-anchor=\"middle\" x=\"41.01\" y=\"-409.43\" font-family=\"Times New Roman,serif\" font-size=\"14.00\">β</text>\n",
       "<text text-anchor=\"middle\" x=\"41.01\" y=\"-392.93\" font-family=\"Times New Roman,serif\" font-size=\"14.00\">~</text>\n",
       "<text text-anchor=\"middle\" x=\"41.01\" y=\"-376.43\" font-family=\"Times New Roman,serif\" font-size=\"14.00\">Normal</text>\n",
       "</g>\n",
       "<!-- p -->\n",
       "<g id=\"node5\" class=\"node\">\n",
       "<title>p</title>\n",
       "<polygon fill=\"none\" stroke=\"black\" points=\"136.14,-321.32 45.89,-321.32 45.89,-263.82 136.14,-263.82 136.14,-321.32\"/>\n",
       "<text text-anchor=\"middle\" x=\"91.01\" y=\"-304.02\" font-family=\"Times New Roman,serif\" font-size=\"14.00\">p</text>\n",
       "<text text-anchor=\"middle\" x=\"91.01\" y=\"-287.52\" font-family=\"Times New Roman,serif\" font-size=\"14.00\">~</text>\n",
       "<text text-anchor=\"middle\" x=\"91.01\" y=\"-271.02\" font-family=\"Times New Roman,serif\" font-size=\"14.00\">Deterministic</text>\n",
       "</g>\n",
       "<!-- β&#45;&gt;p -->\n",
       "<g id=\"edge2\" class=\"edge\">\n",
       "<title>β&#45;&gt;p</title>\n",
       "<path fill=\"none\" stroke=\"black\" d=\"M58.5,-360.81C63,-351.5 67.86,-341.45 72.42,-332.03\"/>\n",
       "<polygon fill=\"black\" stroke=\"black\" points=\"75.53,-333.62 76.74,-323.09 69.23,-330.57 75.53,-333.62\"/>\n",
       "</g>\n",
       "<!-- τ -->\n",
       "<g id=\"node2\" class=\"node\">\n",
       "<title>τ</title>\n",
       "<ellipse fill=\"none\" stroke=\"black\" cx=\"141.01\" cy=\"-397.98\" rx=\"41.01\" ry=\"40.66\"/>\n",
       "<text text-anchor=\"middle\" x=\"141.01\" y=\"-409.43\" font-family=\"Times New Roman,serif\" font-size=\"14.00\">τ</text>\n",
       "<text text-anchor=\"middle\" x=\"141.01\" y=\"-392.93\" font-family=\"Times New Roman,serif\" font-size=\"14.00\">~</text>\n",
       "<text text-anchor=\"middle\" x=\"141.01\" y=\"-376.43\" font-family=\"Times New Roman,serif\" font-size=\"14.00\">Normal</text>\n",
       "</g>\n",
       "<!-- τ&#45;&gt;p -->\n",
       "<g id=\"edge3\" class=\"edge\">\n",
       "<title>τ&#45;&gt;p</title>\n",
       "<path fill=\"none\" stroke=\"black\" d=\"M123.52,-360.81C119.02,-351.5 114.16,-341.45 109.61,-332.03\"/>\n",
       "<polygon fill=\"black\" stroke=\"black\" points=\"112.79,-330.57 105.29,-323.09 106.49,-333.62 112.79,-330.57\"/>\n",
       "</g>\n",
       "<!-- y -->\n",
       "<g id=\"node3\" class=\"node\">\n",
       "<title>y</title>\n",
       "<path fill=\"lightgrey\" stroke=\"black\" d=\"M106.01,-98C106.01,-98 76.01,-98 76.01,-98 70.01,-98 64.01,-92 64.01,-86 64.01,-86 64.01,-52.5 64.01,-52.5 64.01,-46.5 70.01,-40.5 76.01,-40.5 76.01,-40.5 106.01,-40.5 106.01,-40.5 112.01,-40.5 118.01,-46.5 118.01,-52.5 118.01,-52.5 118.01,-86 118.01,-86 118.01,-92 112.01,-98 106.01,-98\"/>\n",
       "<text text-anchor=\"middle\" x=\"91.01\" y=\"-80.7\" font-family=\"Times New Roman,serif\" font-size=\"14.00\">y</text>\n",
       "<text text-anchor=\"middle\" x=\"91.01\" y=\"-64.2\" font-family=\"Times New Roman,serif\" font-size=\"14.00\">~</text>\n",
       "<text text-anchor=\"middle\" x=\"91.01\" y=\"-47.7\" font-family=\"Times New Roman,serif\" font-size=\"14.00\">Data</text>\n",
       "</g>\n",
       "<!-- likelihood -->\n",
       "<g id=\"node4\" class=\"node\">\n",
       "<title>likelihood</title>\n",
       "<ellipse fill=\"lightgrey\" stroke=\"black\" cx=\"91.01\" cy=\"-187.16\" rx=\"50.03\" ry=\"40.66\"/>\n",
       "<text text-anchor=\"middle\" x=\"91.01\" y=\"-198.61\" font-family=\"Times New Roman,serif\" font-size=\"14.00\">likelihood</text>\n",
       "<text text-anchor=\"middle\" x=\"91.01\" y=\"-182.11\" font-family=\"Times New Roman,serif\" font-size=\"14.00\">~</text>\n",
       "<text text-anchor=\"middle\" x=\"91.01\" y=\"-165.61\" font-family=\"Times New Roman,serif\" font-size=\"14.00\">Bernoulli</text>\n",
       "</g>\n",
       "<!-- likelihood&#45;&gt;y -->\n",
       "<g id=\"edge1\" class=\"edge\">\n",
       "<title>likelihood&#45;&gt;y</title>\n",
       "<path fill=\"none\" stroke=\"black\" d=\"M91.01,-146.27C91.01,-134.38 91.01,-121.37 91.01,-109.53\"/>\n",
       "<polygon fill=\"black\" stroke=\"black\" points=\"94.51,-109.67 91.01,-99.67 87.51,-109.67 94.51,-109.67\"/>\n",
       "</g>\n",
       "<!-- p&#45;&gt;likelihood -->\n",
       "<g id=\"edge4\" class=\"edge\">\n",
       "<title>p&#45;&gt;likelihood</title>\n",
       "<path fill=\"none\" stroke=\"black\" d=\"M91.01,-263.58C91.01,-256.1 91.01,-247.77 91.01,-239.45\"/>\n",
       "<polygon fill=\"black\" stroke=\"black\" points=\"94.51,-239.71 91.01,-229.71 87.51,-239.71 94.51,-239.71\"/>\n",
       "</g>\n",
       "</g>\n",
       "</svg>\n"
      ],
      "text/plain": [
       "<graphviz.graphs.Digraph at 0x2093ba9efd0>"
      ]
     },
     "execution_count": 4,
     "metadata": {},
     "output_type": "execute_result"
    }
   ],
   "source": [
    "# nutpie サンプラーを使用する場合、with ブロックの前に特徴量を定義する\n",
    "# with ブロック内で定義した変数を使って計算するとエラーになる(Rustの所有権関係?)\n",
    "Wi = df[\"is_treatment\"].to_numpy()\n",
    "\n",
    "with pm.Model() as model:\n",
    "    # Define priors\n",
    "    β = pm.Normal(\"β\", mu = 0, sigma = 10)\n",
    "    τ = pm.Normal(\"τ\", mu = 0, sigma = 10)\n",
    "\n",
    "    # Data\n",
    "    y = pm.Data(\"y\", df[\"response_att\"].to_numpy(), dims = \"obs_id\")\n",
    "\n",
    "    # Deterministic\n",
    "    p = pm.Deterministic(\"p\", pm.math.sigmoid(β + τ * Wi))\n",
    "\n",
    "    # Define likelihood\n",
    "    pm.Bernoulli(\"likelihood\", p = p, observed = y)\n",
    "\n",
    "# モデル構造の可視化\n",
    "pm.model_to_graphviz(model)"
   ]
  },
  {
   "cell_type": "code",
   "execution_count": 5,
   "metadata": {},
   "outputs": [
    {
     "data": {
      "text/html": [
       "\n",
       "<style>\n",
       "    :root {\n",
       "        --column-width-1: 40%; /* Progress column width */\n",
       "        --column-width-2: 15%; /* Chain column width */\n",
       "        --column-width-3: 15%; /* Divergences column width */\n",
       "        --column-width-4: 15%; /* Step Size column width */\n",
       "        --column-width-5: 15%; /* Gradients/Draw column width */\n",
       "    }\n",
       "\n",
       "    .nutpie {\n",
       "        max-width: 800px;\n",
       "        margin: 10px auto;\n",
       "        font-family: 'Segoe UI', Tahoma, Geneva, Verdana, sans-serif;\n",
       "        //color: #333;\n",
       "        //background-color: #fff;\n",
       "        padding: 10px;\n",
       "        box-shadow: 0 4px 6px rgba(0,0,0,0.1);\n",
       "        border-radius: 8px;\n",
       "        font-size: 14px; /* Smaller font size for a more compact look */\n",
       "    }\n",
       "    .nutpie table {\n",
       "        width: 100%;\n",
       "        border-collapse: collapse; /* Remove any extra space between borders */\n",
       "    }\n",
       "    .nutpie th, .nutpie td {\n",
       "        padding: 8px 10px; /* Reduce padding to make table more compact */\n",
       "        text-align: left;\n",
       "        border-bottom: 1px solid #888;\n",
       "    }\n",
       "    .nutpie th {\n",
       "        //background-color: #f0f0f0;\n",
       "    }\n",
       "\n",
       "    .nutpie th:nth-child(1) { width: var(--column-width-1); }\n",
       "    .nutpie th:nth-child(2) { width: var(--column-width-2); }\n",
       "    .nutpie th:nth-child(3) { width: var(--column-width-3); }\n",
       "    .nutpie th:nth-child(4) { width: var(--column-width-4); }\n",
       "    .nutpie th:nth-child(5) { width: var(--column-width-5); }\n",
       "\n",
       "    .nutpie progress {\n",
       "        width: 100%;\n",
       "        height: 15px; /* Smaller progress bars */\n",
       "        border-radius: 5px;\n",
       "    }\n",
       "    progress::-webkit-progress-bar {\n",
       "        background-color: #eee;\n",
       "        border-radius: 5px;\n",
       "    }\n",
       "    progress::-webkit-progress-value {\n",
       "        background-color: #5cb85c;\n",
       "        border-radius: 5px;\n",
       "    }\n",
       "    progress::-moz-progress-bar {\n",
       "        background-color: #5cb85c;\n",
       "        border-radius: 5px;\n",
       "    }\n",
       "    .nutpie .progress-cell {\n",
       "        width: 100%;\n",
       "    }\n",
       "\n",
       "    .nutpie p strong { font-size: 16px; font-weight: bold; }\n",
       "\n",
       "    @media (prefers-color-scheme: dark) {\n",
       "        .nutpie {\n",
       "            //color: #ddd;\n",
       "            //background-color: #1e1e1e;\n",
       "            box-shadow: 0 4px 6px rgba(0,0,0,0.2);\n",
       "        }\n",
       "        .nutpie table, .nutpie th, .nutpie td {\n",
       "            border-color: #555;\n",
       "            color: #ccc;\n",
       "        }\n",
       "        .nutpie th {\n",
       "            background-color: #2a2a2a;\n",
       "        }\n",
       "        .nutpie progress::-webkit-progress-bar {\n",
       "            background-color: #444;\n",
       "        }\n",
       "        .nutpie progress::-webkit-progress-value {\n",
       "            background-color: #3178c6;\n",
       "        }\n",
       "        .nutpie progress::-moz-progress-bar {\n",
       "            background-color: #3178c6;\n",
       "        }\n",
       "    }\n",
       "</style>\n"
      ],
      "text/plain": [
       "<IPython.core.display.HTML object>"
      ]
     },
     "metadata": {},
     "output_type": "display_data"
    },
    {
     "data": {
      "text/html": [
       "\n",
       "<div class=\"nutpie\">\n",
       "    <p><strong>Sampler Progress</strong></p>\n",
       "    <p>Total Chains: <span id=\"total-chains\">4</span></p>\n",
       "    <p>Active Chains: <span id=\"active-chains\">0</span></p>\n",
       "    <p>\n",
       "        Finished Chains:\n",
       "        <span id=\"active-chains\">4</span>\n",
       "    </p>\n",
       "    <p>Sampling for 33 seconds</p>\n",
       "    <p>\n",
       "        Estimated Time to Completion:\n",
       "        <span id=\"eta\">now</span>\n",
       "    </p>\n",
       "\n",
       "    <progress\n",
       "        id=\"total-progress-bar\"\n",
       "        max=\"8000\"\n",
       "        value=\"8000\">\n",
       "    </progress>\n",
       "    <table>\n",
       "        <thead>\n",
       "            <tr>\n",
       "                <th>Progress</th>\n",
       "                <th>Draws</th>\n",
       "                <th>Divergences</th>\n",
       "                <th>Step Size</th>\n",
       "                <th>Gradients/Draw</th>\n",
       "            </tr>\n",
       "        </thead>\n",
       "        <tbody id=\"chain-details\">\n",
       "            \n",
       "                <tr>\n",
       "                    <td class=\"progress-cell\">\n",
       "                        <progress\n",
       "                            max=\"2000\"\n",
       "                            value=\"2000\">\n",
       "                        </progress>\n",
       "                    </td>\n",
       "                    <td>2000</td>\n",
       "                    <td>0</td>\n",
       "                    <td>0.62</td>\n",
       "                    <td>7</td>\n",
       "                </tr>\n",
       "            \n",
       "                <tr>\n",
       "                    <td class=\"progress-cell\">\n",
       "                        <progress\n",
       "                            max=\"2000\"\n",
       "                            value=\"2000\">\n",
       "                        </progress>\n",
       "                    </td>\n",
       "                    <td>2000</td>\n",
       "                    <td>0</td>\n",
       "                    <td>0.56</td>\n",
       "                    <td>7</td>\n",
       "                </tr>\n",
       "            \n",
       "                <tr>\n",
       "                    <td class=\"progress-cell\">\n",
       "                        <progress\n",
       "                            max=\"2000\"\n",
       "                            value=\"2000\">\n",
       "                        </progress>\n",
       "                    </td>\n",
       "                    <td>2000</td>\n",
       "                    <td>0</td>\n",
       "                    <td>0.56</td>\n",
       "                    <td>15</td>\n",
       "                </tr>\n",
       "            \n",
       "                <tr>\n",
       "                    <td class=\"progress-cell\">\n",
       "                        <progress\n",
       "                            max=\"2000\"\n",
       "                            value=\"2000\">\n",
       "                        </progress>\n",
       "                    </td>\n",
       "                    <td>2000</td>\n",
       "                    <td>0</td>\n",
       "                    <td>0.54</td>\n",
       "                    <td>9</td>\n",
       "                </tr>\n",
       "            \n",
       "            </tr>\n",
       "        </tbody>\n",
       "    </table>\n",
       "</div>\n"
      ],
      "text/plain": [
       "<nutpie.sample._BackgroundSampler at 0x209412d6850>"
      ]
     },
     "metadata": {},
     "output_type": "display_data"
    }
   ],
   "source": [
    "with model:\n",
    "    # 乱数シードの初期化\n",
    "    RANDOM_SEED = 1192\n",
    "    rng = np.random.default_rng(RANDOM_SEED)\n",
    "    np.random.seed(RANDOM_SEED)\n",
    "    # 事後分布の生成\n",
    "    idata = pm.sample(draws = 1000, tune = 1000, chains = 4, target_accept = 0.9, random_seed = rng, nuts_sampler = \"nutpie\")"
   ]
  },
  {
   "cell_type": "code",
   "execution_count": 20,
   "metadata": {},
   "outputs": [
    {
     "data": {
      "text/plain": [
       "array([<Axes: title={'center': 'β'}>, <Axes: title={'center': 'τ'}>],\n",
       "      dtype=object)"
      ]
     },
     "execution_count": 20,
     "metadata": {},
     "output_type": "execute_result"
    },
    {
     "data": {
      "image/png": "[encoded data removed]",
      "text/plain": [
       "<Figure size 1656x552 with 2 Axes>"
      ]
     },
     "metadata": {},
     "output_type": "display_data"
    }
   ],
   "source": [
    "# サンプリングトレースの可視化\n",
    "# パラメータの事後分布を描画する\n",
    "az.plot_posterior(idata, var_names = [\"β\", \"τ\"])\n",
    "\n",
    "# パラメータの事後分布と推移を描画する。とてつもなく遅い。\n",
    "# ディスカッションが作られるくらい遅い\n",
    "# https://discourse.pymc.io/t/arviz-plot-trace-runs-forever-doesnt-complete/11164\n",
    "#az.plot_trace(idata)\n",
    "\n",
    "# その他の描画関数\n",
    "# https://python.arviz.org/en/stable/api/plots.html"
   ]
  },
  {
   "cell_type": "code",
   "execution_count": 21,
   "metadata": {},
   "outputs": [
    {
     "data": {
      "text/plain": [
       "['chapter 2 idata.pkl']"
      ]
     },
     "execution_count": 21,
     "metadata": {},
     "output_type": "execute_result"
    }
   ],
   "source": [
    "# モデルの保存\n",
    "# データ容量 70 MB\n",
    "#joblib.dump(idata, \"chapter 2 idata.pkl\", compress = 9)"
   ]
  },
  {
   "cell_type": "code",
   "execution_count": 22,
   "metadata": {},
   "outputs": [],
   "source": [
    "# モデルの読込み\n",
    "#idata = joblib.load(\"chapter 2 idata.pkl\")"
   ]
  },
  {
   "cell_type": "code",
   "execution_count": 23,
   "metadata": {},
   "outputs": [
    {
     "data": {
      "text/html": [
       "<div>\n",
       "<style scoped>\n",
       "    .dataframe tbody tr th:only-of-type {\n",
       "        vertical-align: middle;\n",
       "    }\n",
       "\n",
       "    .dataframe tbody tr th {\n",
       "        vertical-align: top;\n",
       "    }\n",
       "\n",
       "    .dataframe thead th {\n",
       "        text-align: right;\n",
       "    }\n",
       "</style>\n",
       "<table border=\"1\" class=\"dataframe\">\n",
       "  <thead>\n",
       "    <tr style=\"text-align: right;\">\n",
       "      <th></th>\n",
       "      <th>mean</th>\n",
       "      <th>sd</th>\n",
       "      <th>hdi_3%</th>\n",
       "      <th>hdi_97%</th>\n",
       "      <th>mcse_mean</th>\n",
       "      <th>mcse_sd</th>\n",
       "      <th>ess_bulk</th>\n",
       "      <th>ess_tail</th>\n",
       "      <th>r_hat</th>\n",
       "    </tr>\n",
       "  </thead>\n",
       "  <tbody>\n",
       "    <tr>\n",
       "      <th>β</th>\n",
       "      <td>-2.172</td>\n",
       "      <td>0.030</td>\n",
       "      <td>-2.232</td>\n",
       "      <td>-2.116</td>\n",
       "      <td>0.001</td>\n",
       "      <td>0.001</td>\n",
       "      <td>973.0</td>\n",
       "      <td>940.0</td>\n",
       "      <td>1.0</td>\n",
       "    </tr>\n",
       "    <tr>\n",
       "      <th>τ</th>\n",
       "      <td>0.096</td>\n",
       "      <td>0.034</td>\n",
       "      <td>0.029</td>\n",
       "      <td>0.157</td>\n",
       "      <td>0.001</td>\n",
       "      <td>0.001</td>\n",
       "      <td>993.0</td>\n",
       "      <td>1024.0</td>\n",
       "      <td>1.0</td>\n",
       "    </tr>\n",
       "  </tbody>\n",
       "</table>\n",
       "</div>"
      ],
      "text/plain": [
       "    mean     sd  hdi_3%  hdi_97%  mcse_mean  mcse_sd  ess_bulk  ess_tail  \\\n",
       "β -2.172  0.030  -2.232   -2.116      0.001    0.001     973.0     940.0   \n",
       "τ  0.096  0.034   0.029    0.157      0.001    0.001     993.0    1024.0   \n",
       "\n",
       "   r_hat  \n",
       "β    1.0  \n",
       "τ    1.0  "
      ]
     },
     "metadata": {},
     "output_type": "display_data"
    }
   ],
   "source": [
    "### モデル評価\n",
    "summary = az.summary(\n",
    "    idata,\n",
    "    var_names = [\"β\", \"τ\"]\n",
    ")\n",
    "display(summary)"
   ]
  },
  {
   "cell_type": "code",
   "execution_count": 24,
   "metadata": {},
   "outputs": [
    {
     "name": "stdout",
     "output_type": "stream",
     "text": [
      "施策無しの来店確率: 10.23 %\n",
      "施策有の来店確率: 11.15 %\n",
      "施策効果: 0.92 point\n"
     ]
    }
   ],
   "source": [
    "import math\n",
    "\n",
    "def sigmoid(x):\n",
    "  return 1 / (1 + math.exp(-x))\n",
    "\n",
    "# パラメータの推定値\n",
    "means = summary[\"mean\"]\n",
    "β_hat = means[\"β\"]\n",
    "τ_hat = means[\"τ\"]\n",
    "\n",
    "# 確率\n",
    "base_probability = sigmoid(β_hat) * 100\n",
    "treated_probability = sigmoid(β_hat + τ_hat) * 100\n",
    "print(\"施策無しの来店確率:\", np.round(base_probability, decimals = 2), \"%\")\n",
    "print(\"施策有の来店確率:\", np.round(treated_probability, decimals = 2), \"%\")\n",
    "print(\"施策効果:\", np.round(treated_probability - base_probability, decimals = 2), \"point\")"
   ]
  },
  {
   "cell_type": "code",
   "execution_count": 25,
   "metadata": {},
   "outputs": [
    {
     "name": "stdout",
     "output_type": "stream",
     "text": [
      "Last updated: Sat Jun 15 2024\n",
      "\n",
      "Python implementation: CPython\n",
      "Python version       : 3.11.9\n",
      "IPython version      : 8.25.0\n",
      "\n",
      "pytensor: 2.22.1\n",
      "\n",
      "pymc               : 5.15.1\n",
      "japanize_matplotlib: 1.1.3\n",
      "arviz              : 0.18.0\n",
      "polars             : 0.20.31\n",
      "pytensor           : 2.22.1\n",
      "statsmodels        : 0.14.2\n",
      "joblib             : 1.4.2\n",
      "matplotlib         : 3.8.4\n",
      "seaborn            : 0.13.2\n",
      "numpy              : 1.26.4\n",
      "\n",
      "Watermark: 2.4.3\n",
      "\n"
     ]
    }
   ],
   "source": [
    "%load_ext watermark\n",
    "%watermark -n -u -v -iv -w -p pytensor"
   ]
  }
 ],
 "metadata": {
  "kernelspec": {
   "display_name": "pymc_env",
   "language": "python",
   "name": "python3"
  },
  "language_info": {
   "codemirror_mode": {
    "name": "ipython",
    "version": 3
   },
   "file_extension": ".py",
   "mimetype": "text/x-python",
   "name": "python",
   "nbconvert_exporter": "python",
   "pygments_lexer": "ipython3",
   "version": "3.11.9"
  }
 },
 "nbformat": 4,
 "nbformat_minor": 2
}
