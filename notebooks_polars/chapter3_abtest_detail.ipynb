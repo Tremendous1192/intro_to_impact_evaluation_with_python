{
 "cells": [
  {
   "cell_type": "markdown",
   "metadata": {},
   "source": [
    "# 前準備"
   ]
  },
  {
   "cell_type": "code",
   "execution_count": 41,
   "metadata": {},
   "outputs": [],
   "source": [
    "%%capture\n",
    "#!pip install linearmodels"
   ]
  },
  {
   "cell_type": "code",
   "execution_count": 74,
   "metadata": {},
   "outputs": [],
   "source": [
    "import hashlib\n",
    "\n",
    "import matplotlib.pyplot as plt\n",
    "import numpy as np\n",
    "import polars as pl\n",
    "import polars.selectors as cs\n",
    "pl.Config(fmt_str_lengths = 100, tbl_cols = 100, tbl_rows = 10)\n",
    "import seaborn as sns\n",
    "import statsmodels.formula.api as smf\n",
    "from linearmodels.iv import IV2SLS\n",
    "from scipy import stats\n",
    "from statsmodels.iolib.summary2 import summary_col\n",
    "from tqdm import tqdm\n",
    "\n",
    "URL_LENTA_DATA = \"https://raw.githubusercontent.com/HirotakeIto/intro_to_impact_evaluation_with_python/main/data/lenta_dataset.csv\"\n",
    "URL_CLUSTER_TRIAL = \"https://raw.githubusercontent.com/HirotakeIto/intro_to_impact_evaluation_with_python/main/data/ch3_cluster_trial.csv\"\n",
    "URL_STRATIFIED_TRIAL = \"https://raw.githubusercontent.com/HirotakeIto/intro_to_impact_evaluation_with_python/main/data/ch3_stratified_trial.csv\"\n",
    "URL_AATEST = \"https://raw.githubusercontent.com/HirotakeIto/intro_to_impact_evaluation_with_python/main/data/ch3_aatest_trial.csv\"\n",
    "URL_NONCOMPLIANCE = \"https://raw.githubusercontent.com/HirotakeIto/intro_to_impact_evaluation_with_python/main/data/ch3_noncompliance_abtest.csv\""
   ]
  },
  {
   "cell_type": "markdown",
   "metadata": {},
   "source": [
    "# A/Bテストについての発展的な話題"
   ]
  },
  {
   "cell_type": "markdown",
   "metadata": {},
   "source": [
    "## A/Aテスト：A/Bテスト設計の妥当性を確認する\n",
    "### プログラム3.1 割当単位と分析単位が不一致な場合の回帰分析"
   ]
  },
  {
   "cell_type": "markdown",
   "metadata": {},
   "source": [
    "書籍上では次のようなコードになっています。\n",
    "```python\n",
    "import pandas as pd\n",
    "import statsmodels.formula.api as smf\n",
    "\n",
    "df_cluster_trial = pd.read_csv(URL_CLUSTER_TRIAL)\n",
    "result = smf.ols(\n",
    "    formula=\"is_click ~ is_treatment\", data=df_cluster_trial\n",
    ").fit()\n",
    "result.summary().tables[1]\n",
    "```"
   ]
  },
  {
   "cell_type": "code",
   "execution_count": 43,
   "metadata": {},
   "outputs": [
    {
     "data": {
      "text/html": [
       "<table class=\"simpletable\">\n",
       "<tr>\n",
       "        <td></td>          <th>coef</th>     <th>std err</th>      <th>t</th>      <th>P>|t|</th>  <th>[0.025</th>    <th>0.975]</th>  \n",
       "</tr>\n",
       "<tr>\n",
       "  <th>Intercept</th>    <td>    0.5216</td> <td>    0.008</td> <td>   69.521</td> <td> 0.000</td> <td>    0.507</td> <td>    0.536</td>\n",
       "</tr>\n",
       "<tr>\n",
       "  <th>is_treatment</th> <td>   -0.0232</td> <td>    0.010</td> <td>   -2.365</td> <td> 0.018</td> <td>   -0.043</td> <td>   -0.004</td>\n",
       "</tr>\n",
       "</table>"
      ],
      "text/latex": [
       "\\begin{center}\n",
       "\\begin{tabular}{lcccccc}\n",
       "\\toprule\n",
       "                       & \\textbf{coef} & \\textbf{std err} & \\textbf{t} & \\textbf{P$> |$t$|$} & \\textbf{[0.025} & \\textbf{0.975]}  \\\\\n",
       "\\midrule\n",
       "\\textbf{Intercept}     &       0.5216  &        0.008     &    69.521  &         0.000        &        0.507    &        0.536     \\\\\n",
       "\\textbf{is\\_treatment} &      -0.0232  &        0.010     &    -2.365  &         0.018        &       -0.043    &       -0.004     \\\\\n",
       "\\bottomrule\n",
       "\\end{tabular}\n",
       "\\end{center}"
      ],
      "text/plain": [
       "<class 'statsmodels.iolib.table.SimpleTable'>"
      ]
     },
     "execution_count": 43,
     "metadata": {},
     "output_type": "execute_result"
    }
   ],
   "source": [
    "df_cluster_trial = pl.read_csv(URL_CLUSTER_TRIAL)\n",
    "result = smf.ols(\n",
    "    formula = \"is_click ~ is_treatment\", data = df_cluster_trial\n",
    ").fit()\n",
    "result.summary().tables[1]"
   ]
  },
  {
   "cell_type": "code",
   "execution_count": 44,
   "metadata": {},
   "outputs": [
    {
     "data": {
      "text/html": [
       "<div><style>\n",
       ".dataframe > thead > tr,\n",
       ".dataframe > tbody > tr {\n",
       "  text-align: right;\n",
       "  white-space: pre-wrap;\n",
       "}\n",
       "</style>\n",
       "<small>shape: (10_640, 3)</small><table border=\"1\" class=\"dataframe\"><thead><tr><th>uid</th><th>is_treatment</th><th>is_click</th></tr><tr><td>i64</td><td>i64</td><td>i64</td></tr></thead><tbody><tr><td>0</td><td>0</td><td>1</td></tr><tr><td>0</td><td>0</td><td>0</td></tr><tr><td>0</td><td>0</td><td>0</td></tr><tr><td>0</td><td>0</td><td>0</td></tr><tr><td>0</td><td>0</td><td>0</td></tr><tr><td>0</td><td>0</td><td>0</td></tr><tr><td>0</td><td>0</td><td>1</td></tr><tr><td>0</td><td>0</td><td>0</td></tr><tr><td>0</td><td>0</td><td>1</td></tr><tr><td>0</td><td>0</td><td>1</td></tr><tr><td>&hellip;</td><td>&hellip;</td><td>&hellip;</td></tr><tr><td>199</td><td>1</td><td>1</td></tr><tr><td>199</td><td>1</td><td>1</td></tr><tr><td>199</td><td>1</td><td>0</td></tr><tr><td>199</td><td>1</td><td>0</td></tr><tr><td>199</td><td>1</td><td>1</td></tr><tr><td>199</td><td>1</td><td>0</td></tr><tr><td>199</td><td>1</td><td>0</td></tr><tr><td>199</td><td>1</td><td>1</td></tr><tr><td>199</td><td>1</td><td>0</td></tr><tr><td>199</td><td>1</td><td>1</td></tr></tbody></table></div>"
      ],
      "text/plain": [
       "shape: (10_640, 3)\n",
       "┌─────┬──────────────┬──────────┐\n",
       "│ uid ┆ is_treatment ┆ is_click │\n",
       "│ --- ┆ ---          ┆ ---      │\n",
       "│ i64 ┆ i64          ┆ i64      │\n",
       "╞═════╪══════════════╪══════════╡\n",
       "│ 0   ┆ 0            ┆ 1        │\n",
       "│ 0   ┆ 0            ┆ 0        │\n",
       "│ 0   ┆ 0            ┆ 0        │\n",
       "│ 0   ┆ 0            ┆ 0        │\n",
       "│ 0   ┆ 0            ┆ 0        │\n",
       "│ 0   ┆ 0            ┆ 0        │\n",
       "│ 0   ┆ 0            ┆ 1        │\n",
       "│ 0   ┆ 0            ┆ 0        │\n",
       "│ 0   ┆ 0            ┆ 1        │\n",
       "│ 0   ┆ 0            ┆ 1        │\n",
       "│ …   ┆ …            ┆ …        │\n",
       "│ 199 ┆ 1            ┆ 1        │\n",
       "│ 199 ┆ 1            ┆ 1        │\n",
       "│ 199 ┆ 1            ┆ 0        │\n",
       "│ 199 ┆ 1            ┆ 0        │\n",
       "│ 199 ┆ 1            ┆ 1        │\n",
       "│ 199 ┆ 1            ┆ 0        │\n",
       "│ 199 ┆ 1            ┆ 0        │\n",
       "│ 199 ┆ 1            ┆ 1        │\n",
       "│ 199 ┆ 1            ┆ 0        │\n",
       "│ 199 ┆ 1            ┆ 1        │\n",
       "└─────┴──────────────┴──────────┘"
      ]
     },
     "execution_count": 44,
     "metadata": {},
     "output_type": "execute_result"
    }
   ],
   "source": [
    "df_cluster_trial"
   ]
  },
  {
   "cell_type": "markdown",
   "metadata": {},
   "source": [
    "### プログラム3.2 A/A テストの分析（A/A テストが成功しているとき）\n",
    "書籍上では次のようなコードになっています。\n",
    "\n",
    "```python\n",
    "df_aatest = pd.read_csv(URL_AATEST)\n",
    "result = smf.ols(\n",
    "    formula=\"is_click~is_treatment\", data=df_aatest\n",
    ").fit()\n",
    "result.summary().tables[1]\n",
    "```"
   ]
  },
  {
   "cell_type": "code",
   "execution_count": 45,
   "metadata": {},
   "outputs": [
    {
     "data": {
      "text/html": [
       "<table class=\"simpletable\">\n",
       "<tr>\n",
       "        <td></td>          <th>coef</th>     <th>std err</th>      <th>t</th>      <th>P>|t|</th>  <th>[0.025</th>    <th>0.975]</th>  \n",
       "</tr>\n",
       "<tr>\n",
       "  <th>Intercept</th>    <td>    0.4988</td> <td>    0.007</td> <td>   70.327</td> <td> 0.000</td> <td>    0.485</td> <td>    0.513</td>\n",
       "</tr>\n",
       "<tr>\n",
       "  <th>is_treatment</th> <td>    0.0102</td> <td>    0.010</td> <td>    1.015</td> <td> 0.310</td> <td>   -0.009</td> <td>    0.030</td>\n",
       "</tr>\n",
       "</table>"
      ],
      "text/latex": [
       "\\begin{center}\n",
       "\\begin{tabular}{lcccccc}\n",
       "\\toprule\n",
       "                       & \\textbf{coef} & \\textbf{std err} & \\textbf{t} & \\textbf{P$> |$t$|$} & \\textbf{[0.025} & \\textbf{0.975]}  \\\\\n",
       "\\midrule\n",
       "\\textbf{Intercept}     &       0.4988  &        0.007     &    70.327  &         0.000        &        0.485    &        0.513     \\\\\n",
       "\\textbf{is\\_treatment} &       0.0102  &        0.010     &     1.015  &         0.310        &       -0.009    &        0.030     \\\\\n",
       "\\bottomrule\n",
       "\\end{tabular}\n",
       "\\end{center}"
      ],
      "text/plain": [
       "<class 'statsmodels.iolib.table.SimpleTable'>"
      ]
     },
     "execution_count": 45,
     "metadata": {},
     "output_type": "execute_result"
    }
   ],
   "source": [
    "df_aatest = pl.read_csv(URL_AATEST)\n",
    "result = smf.ols(\n",
    "    formula = \"is_click~is_treatment\", data = df_aatest\n",
    ").fit()\n",
    "result.summary().tables[1]"
   ]
  },
  {
   "cell_type": "code",
   "execution_count": 46,
   "metadata": {},
   "outputs": [
    {
     "data": {
      "text/html": [
       "<div><style>\n",
       ".dataframe > thead > tr,\n",
       ".dataframe > tbody > tr {\n",
       "  text-align: right;\n",
       "  white-space: pre-wrap;\n",
       "}\n",
       "</style>\n",
       "<small>shape: (10_000, 3)</small><table border=\"1\" class=\"dataframe\"><thead><tr><th>imp_id</th><th>is_treatment</th><th>is_click</th></tr><tr><td>i64</td><td>i64</td><td>i64</td></tr></thead><tbody><tr><td>0</td><td>1</td><td>0</td></tr><tr><td>1</td><td>1</td><td>0</td></tr><tr><td>2</td><td>1</td><td>1</td></tr><tr><td>3</td><td>0</td><td>1</td></tr><tr><td>4</td><td>0</td><td>1</td></tr><tr><td>5</td><td>0</td><td>0</td></tr><tr><td>6</td><td>0</td><td>1</td></tr><tr><td>7</td><td>0</td><td>1</td></tr><tr><td>8</td><td>0</td><td>1</td></tr><tr><td>9</td><td>1</td><td>0</td></tr><tr><td>&hellip;</td><td>&hellip;</td><td>&hellip;</td></tr><tr><td>9990</td><td>1</td><td>0</td></tr><tr><td>9991</td><td>1</td><td>1</td></tr><tr><td>9992</td><td>0</td><td>0</td></tr><tr><td>9993</td><td>0</td><td>1</td></tr><tr><td>9994</td><td>1</td><td>1</td></tr><tr><td>9995</td><td>1</td><td>1</td></tr><tr><td>9996</td><td>1</td><td>1</td></tr><tr><td>9997</td><td>0</td><td>1</td></tr><tr><td>9998</td><td>1</td><td>0</td></tr><tr><td>9999</td><td>1</td><td>1</td></tr></tbody></table></div>"
      ],
      "text/plain": [
       "shape: (10_000, 3)\n",
       "┌────────┬──────────────┬──────────┐\n",
       "│ imp_id ┆ is_treatment ┆ is_click │\n",
       "│ ---    ┆ ---          ┆ ---      │\n",
       "│ i64    ┆ i64          ┆ i64      │\n",
       "╞════════╪══════════════╪══════════╡\n",
       "│ 0      ┆ 1            ┆ 0        │\n",
       "│ 1      ┆ 1            ┆ 0        │\n",
       "│ 2      ┆ 1            ┆ 1        │\n",
       "│ 3      ┆ 0            ┆ 1        │\n",
       "│ 4      ┆ 0            ┆ 1        │\n",
       "│ 5      ┆ 0            ┆ 0        │\n",
       "│ 6      ┆ 0            ┆ 1        │\n",
       "│ 7      ┆ 0            ┆ 1        │\n",
       "│ 8      ┆ 0            ┆ 1        │\n",
       "│ 9      ┆ 1            ┆ 0        │\n",
       "│ …      ┆ …            ┆ …        │\n",
       "│ 9990   ┆ 1            ┆ 0        │\n",
       "│ 9991   ┆ 1            ┆ 1        │\n",
       "│ 9992   ┆ 0            ┆ 0        │\n",
       "│ 9993   ┆ 0            ┆ 1        │\n",
       "│ 9994   ┆ 1            ┆ 1        │\n",
       "│ 9995   ┆ 1            ┆ 1        │\n",
       "│ 9996   ┆ 1            ┆ 1        │\n",
       "│ 9997   ┆ 0            ┆ 1        │\n",
       "│ 9998   ┆ 1            ┆ 0        │\n",
       "│ 9999   ┆ 1            ┆ 1        │\n",
       "└────────┴──────────────┴──────────┘"
      ]
     },
     "execution_count": 46,
     "metadata": {},
     "output_type": "execute_result"
    }
   ],
   "source": [
    "df_aatest"
   ]
  },
  {
   "cell_type": "markdown",
   "metadata": {},
   "source": [
    "### プログラム3.3 A/A テストのリプレイ"
   ]
  },
  {
   "cell_type": "markdown",
   "metadata": {},
   "source": [
    "書籍上では次のようなコードになっています。\n",
    "```python\n",
    "import hashlib\n",
    "\n",
    "import numpy as np\n",
    "from tqdm import tqdm\n",
    "\n",
    "def assign_treatment_randomly(imp_id, salt):\n",
    "    return (\n",
    "        int(hashlib.sha256(f\"{salt}_{imp_id}\".encode()).hexdigest(), 16)\n",
    "        % 2\n",
    "    )\n",
    "\n",
    "\n",
    "# セットアップ\n",
    "df_aatest = pd.read_csv(URL_AATEST)\n",
    "rng = np.random.default_rng(seed=0)\n",
    "replays = []\n",
    "# for-loopによる繰り返し処理\n",
    "for i in tqdm(range(300)):\n",
    "    # 擬似的な割当\n",
    "    salt = f\"salt{i}\"\n",
    "    df_aatest[\"is_treatment_in_aa\"] = df_aatest[\"imp_id\"].apply(\n",
    "        assign_treatment_randomly, salt=salt\n",
    "    )\n",
    "    # 擬似的な割当の下での分析\n",
    "    result = smf.ols(\n",
    "        formula=\"is_click ~ is_treatment_in_aa\", data=df_aatest\n",
    "    ).fit()\n",
    "    pvalue = result.pvalues[\"is_treatment_in_aa\"]\n",
    "    # 情報の格納\n",
    "    replays.append(pvalue)\n",
    "```"
   ]
  },
  {
   "cell_type": "code",
   "execution_count": 47,
   "metadata": {},
   "outputs": [
    {
     "name": "stderr",
     "output_type": "stream",
     "text": [
      "100%|██████████| 300/300 [00:09<00:00, 33.30it/s]\n"
     ]
    }
   ],
   "source": [
    "def assign_treatment_randomly(imp_id, salt):\n",
    "    '''\n",
    "    施策対象者を割り当てる関数\n",
    "    '''\n",
    "    return (\n",
    "        int(hashlib.sha256(f\"{salt}_{imp_id}\".encode()).hexdigest(), 16)\n",
    "        % 2\n",
    "    )\n",
    "\n",
    "\n",
    "# セットアップ\n",
    "df_aatest = pl.read_csv(URL_AATEST)\n",
    "rng = np.random.default_rng(seed = 0)\n",
    "replays = []\n",
    "# for-loopによる繰り返し処理\n",
    "for i in tqdm(range(300)):\n",
    "    # 擬似的な割当\n",
    "    salt = f\"salt{i}\"\n",
    "    df_aatest = (\n",
    "        df_aatest\n",
    "        .with_columns(\n",
    "            pl.col(\"imp_id\")\n",
    "            .map_elements(lambda x: assign_treatment_randomly(imp_id = x, salt = salt), return_dtype = pl.Int64)\n",
    "            .alias(\"is_treatment_in_aa\")\n",
    "        )\n",
    "    )\n",
    "    # 擬似的な割当の下での分析\n",
    "    result = smf.ols(\n",
    "        formula = \"is_click ~ is_treatment_in_aa\", data = df_aatest\n",
    "    ).fit()\n",
    "    pvalue = result.pvalues[\"is_treatment_in_aa\"]\n",
    "    # 情報の格納\n",
    "    replays.append(pvalue)"
   ]
  },
  {
   "cell_type": "markdown",
   "metadata": {},
   "source": [
    "### プログラム3.4 A/A テストのリプレイの可視化\n",
    "本文では次のようになっています。\n",
    "```python\n",
    "import matplotlib.pyplot as plt\n",
    "\n",
    "fig, ax = plt.subplots(1, 1, figsize=(5, 4))\n",
    "ax.hist(replays)\n",
    "ax.set_facecolor(\"none\")\n",
    "ax.set_xlabel(\"pvalue\")\n",
    "ax.set_title(\"distribution of pvalue\")\n",
    "plt.show()\n",
    "```"
   ]
  },
  {
   "cell_type": "code",
   "execution_count": 48,
   "metadata": {},
   "outputs": [
    {
     "data": {
      "image/png": "[encoded data removed]",
      "text/plain": [
       "<Figure size 500x400 with 1 Axes>"
      ]
     },
     "metadata": {},
     "output_type": "display_data"
    }
   ],
   "source": [
    "fig, ax = plt.subplots(1, 1, figsize=(5, 4))\n",
    "ax.hist(replays)\n",
    "ax.set_facecolor(\"none\")\n",
    "ax.set_xlabel(\"pvalue\")\n",
    "ax.set_title(\"distribution of pvalue\")\n",
    "plt.show()"
   ]
  },
  {
   "cell_type": "markdown",
   "metadata": {},
   "source": [
    "### プログラム3.5 コルモゴロフ─スミルノフ検定による分布の確認\n",
    "本文では次のようになっています。\n",
    "``` python\n",
    "from scipy import stats\n",
    "\n",
    "stats.kstest(replays, \"uniform\", args=(0, 1))\n",
    "```"
   ]
  },
  {
   "cell_type": "code",
   "execution_count": 49,
   "metadata": {},
   "outputs": [
    {
     "data": {
      "text/plain": [
       "KstestResult(statistic=0.04504551195894568, pvalue=0.561121550893019, statistic_location=0.688378845292279, statistic_sign=-1)"
      ]
     },
     "execution_count": 49,
     "metadata": {},
     "output_type": "execute_result"
    }
   ],
   "source": [
    "stats.kstest(replays, \"uniform\", args=(0, 1))"
   ]
  },
  {
   "cell_type": "markdown",
   "metadata": {},
   "source": [
    "## 状況に応じたA/Bテストのモデリング"
   ]
  },
  {
   "cell_type": "markdown",
   "metadata": {},
   "source": [
    "### クラスターA/BテストCluster A/B Test "
   ]
  },
  {
   "cell_type": "markdown",
   "metadata": {},
   "source": [
    "#### プログラム3.6 クラスターA/B テストデータにおけるA/A テストのリプレイ"
   ]
  },
  {
   "cell_type": "markdown",
   "metadata": {},
   "source": [
    "本文では次のようになっています。\n",
    "```python\n",
    "def assign_treatment_randomly(uid, salt):\n",
    "    return (\n",
    "        int(hashlib.sha256(f\"{salt}_{uid}\".encode()).hexdigest(), 16)\n",
    "        % 2\n",
    "    )\n",
    "\n",
    "\n",
    "df_cluster = pd.read_csv(URL_CLUSTER_TRIAL)\n",
    "rng = np.random.default_rng(seed=0)\n",
    "replays = []\n",
    "for i in tqdm(range(300)):\n",
    "    # 擬似的な割当\n",
    "    salt = f\"salt{i}\"\n",
    "    df_cluster[\"is_treatment_in_aa\"] = df_cluster[\"uid\"].apply(\n",
    "        assign_treatment_randomly, salt=salt\n",
    "    )\n",
    "    # 擬似的な割当の下での分析\n",
    "    result = smf.ols(\n",
    "        formula=\"is_click ~ is_treatment_in_aa\", data=df_cluster\n",
    "    ).fit()\n",
    "    pvalue = result.pvalues[\"is_treatment_in_aa\"]\n",
    "    # 情報の格納\n",
    "    replays.append(pvalue)\n",
    "```"
   ]
  },
  {
   "cell_type": "code",
   "execution_count": 50,
   "metadata": {},
   "outputs": [
    {
     "name": "stderr",
     "output_type": "stream",
     "text": [
      "100%|██████████| 300/300 [00:09<00:00, 32.61it/s]\n"
     ]
    }
   ],
   "source": [
    "def assign_treatment_randomly(uid, salt):\n",
    "    return (\n",
    "        int(hashlib.sha256(f\"{salt}_{uid}\".encode()).hexdigest(), 16)\n",
    "        % 2\n",
    "    )\n",
    "\n",
    "\n",
    "df_cluster = pl.read_csv(URL_CLUSTER_TRIAL)\n",
    "rng = np.random.default_rng(seed = 0)\n",
    "replays = []\n",
    "for i in tqdm(range(300)):\n",
    "    # 擬似的な割当\n",
    "    salt = f\"salt{i}\"\n",
    "    df_cluster = (\n",
    "        df_cluster\n",
    "        .with_columns(\n",
    "            pl.col(\"uid\")\n",
    "            .map_elements(lambda x: assign_treatment_randomly(uid = x, salt = salt), return_dtype = pl.Int64)\n",
    "            .alias(\"is_treatment_in_aa\")\n",
    "        )\n",
    "    )\n",
    "    # 擬似的な割当の下での分析\n",
    "    result = smf.ols(\n",
    "        formula = \"is_click ~ is_treatment_in_aa\", data = df_cluster\n",
    "    ).fit()\n",
    "    pvalue = result.pvalues[\"is_treatment_in_aa\"]\n",
    "    # 情報の格納\n",
    "    replays.append(pvalue)"
   ]
  },
  {
   "cell_type": "code",
   "execution_count": 51,
   "metadata": {},
   "outputs": [
    {
     "data": {
      "text/html": [
       "<div><style>\n",
       ".dataframe > thead > tr,\n",
       ".dataframe > tbody > tr {\n",
       "  text-align: right;\n",
       "  white-space: pre-wrap;\n",
       "}\n",
       "</style>\n",
       "<small>shape: (10_640, 4)</small><table border=\"1\" class=\"dataframe\"><thead><tr><th>uid</th><th>is_treatment</th><th>is_click</th><th>is_treatment_in_aa</th></tr><tr><td>i64</td><td>i64</td><td>i64</td><td>i64</td></tr></thead><tbody><tr><td>0</td><td>0</td><td>1</td><td>0</td></tr><tr><td>0</td><td>0</td><td>0</td><td>0</td></tr><tr><td>0</td><td>0</td><td>0</td><td>0</td></tr><tr><td>0</td><td>0</td><td>0</td><td>0</td></tr><tr><td>0</td><td>0</td><td>0</td><td>0</td></tr><tr><td>0</td><td>0</td><td>0</td><td>0</td></tr><tr><td>0</td><td>0</td><td>1</td><td>0</td></tr><tr><td>0</td><td>0</td><td>0</td><td>0</td></tr><tr><td>0</td><td>0</td><td>1</td><td>0</td></tr><tr><td>0</td><td>0</td><td>1</td><td>0</td></tr><tr><td>&hellip;</td><td>&hellip;</td><td>&hellip;</td><td>&hellip;</td></tr><tr><td>199</td><td>1</td><td>1</td><td>0</td></tr><tr><td>199</td><td>1</td><td>1</td><td>0</td></tr><tr><td>199</td><td>1</td><td>0</td><td>0</td></tr><tr><td>199</td><td>1</td><td>0</td><td>0</td></tr><tr><td>199</td><td>1</td><td>1</td><td>0</td></tr><tr><td>199</td><td>1</td><td>0</td><td>0</td></tr><tr><td>199</td><td>1</td><td>0</td><td>0</td></tr><tr><td>199</td><td>1</td><td>1</td><td>0</td></tr><tr><td>199</td><td>1</td><td>0</td><td>0</td></tr><tr><td>199</td><td>1</td><td>1</td><td>0</td></tr></tbody></table></div>"
      ],
      "text/plain": [
       "shape: (10_640, 4)\n",
       "┌─────┬──────────────┬──────────┬────────────────────┐\n",
       "│ uid ┆ is_treatment ┆ is_click ┆ is_treatment_in_aa │\n",
       "│ --- ┆ ---          ┆ ---      ┆ ---                │\n",
       "│ i64 ┆ i64          ┆ i64      ┆ i64                │\n",
       "╞═════╪══════════════╪══════════╪════════════════════╡\n",
       "│ 0   ┆ 0            ┆ 1        ┆ 0                  │\n",
       "│ 0   ┆ 0            ┆ 0        ┆ 0                  │\n",
       "│ 0   ┆ 0            ┆ 0        ┆ 0                  │\n",
       "│ 0   ┆ 0            ┆ 0        ┆ 0                  │\n",
       "│ 0   ┆ 0            ┆ 0        ┆ 0                  │\n",
       "│ 0   ┆ 0            ┆ 0        ┆ 0                  │\n",
       "│ 0   ┆ 0            ┆ 1        ┆ 0                  │\n",
       "│ 0   ┆ 0            ┆ 0        ┆ 0                  │\n",
       "│ 0   ┆ 0            ┆ 1        ┆ 0                  │\n",
       "│ 0   ┆ 0            ┆ 1        ┆ 0                  │\n",
       "│ …   ┆ …            ┆ …        ┆ …                  │\n",
       "│ 199 ┆ 1            ┆ 1        ┆ 0                  │\n",
       "│ 199 ┆ 1            ┆ 1        ┆ 0                  │\n",
       "│ 199 ┆ 1            ┆ 0        ┆ 0                  │\n",
       "│ 199 ┆ 1            ┆ 0        ┆ 0                  │\n",
       "│ 199 ┆ 1            ┆ 1        ┆ 0                  │\n",
       "│ 199 ┆ 1            ┆ 0        ┆ 0                  │\n",
       "│ 199 ┆ 1            ┆ 0        ┆ 0                  │\n",
       "│ 199 ┆ 1            ┆ 1        ┆ 0                  │\n",
       "│ 199 ┆ 1            ┆ 0        ┆ 0                  │\n",
       "│ 199 ┆ 1            ┆ 1        ┆ 0                  │\n",
       "└─────┴──────────────┴──────────┴────────────────────┘"
      ]
     },
     "execution_count": 51,
     "metadata": {},
     "output_type": "execute_result"
    }
   ],
   "source": [
    "df_cluster"
   ]
  },
  {
   "cell_type": "code",
   "execution_count": 52,
   "metadata": {},
   "outputs": [
    {
     "data": {
      "image/png": "[encoded data removed]",
      "text/plain": [
       "<Figure size 500x400 with 1 Axes>"
      ]
     },
     "metadata": {},
     "output_type": "display_data"
    }
   ],
   "source": [
    "fig, ax = plt.subplots(1, 1, figsize = (5, 4))\n",
    "ax.hist(replays)\n",
    "ax.set_facecolor(\"none\")\n",
    "ax.set_xlabel(\"pvalue\")\n",
    "ax.set_title(\"distribution of pvalue\")\n",
    "plt.show()"
   ]
  },
  {
   "cell_type": "code",
   "execution_count": 53,
   "metadata": {},
   "outputs": [
    {
     "data": {
      "text/plain": [
       "KstestResult(statistic=0.6134127868407012, pvalue=4.700198099441234e-109, statistic_location=0.056587213159298794, statistic_sign=1)"
      ]
     },
     "execution_count": 53,
     "metadata": {},
     "output_type": "execute_result"
    }
   ],
   "source": [
    "stats.kstest(replays, \"uniform\", args = (0, 1))"
   ]
  },
  {
   "cell_type": "markdown",
   "metadata": {},
   "source": [
    "#### プログラム3.7 クラスターA/B テストデータの分析\n",
    "本書では次のようなコードになっています\n",
    "```python\n",
    "df_cluster_trial = pd.read_csv(URL_CLUSTER_TRIAL)\n",
    "# 施策効果の推定\n",
    "result = smf.ols(\n",
    "    formula=\"is_click ~ is_treatment\", data=df_cluster_trial\n",
    ").fit()\n",
    "# クラスター頑健標準誤差を用いて分析する\n",
    "result_corrected = result.get_robustcov_results(\n",
    "    \"cluster\", groups=df_cluster_trial[\"uid\"]\n",
    ")\n",
    "result_corrected.summary().tables[1]\n",
    "```"
   ]
  },
  {
   "cell_type": "code",
   "execution_count": 54,
   "metadata": {},
   "outputs": [
    {
     "data": {
      "text/html": [
       "<table class=\"simpletable\">\n",
       "<tr>\n",
       "        <td></td>          <th>coef</th>     <th>std err</th>      <th>t</th>      <th>P>|t|</th>  <th>[0.025</th>    <th>0.975]</th>  \n",
       "</tr>\n",
       "<tr>\n",
       "  <th>Intercept</th>    <td>    0.5216</td> <td>    0.033</td> <td>   15.632</td> <td> 0.000</td> <td>    0.456</td> <td>    0.587</td>\n",
       "</tr>\n",
       "<tr>\n",
       "  <th>is_treatment</th> <td>   -0.0232</td> <td>    0.043</td> <td>   -0.539</td> <td> 0.590</td> <td>   -0.108</td> <td>    0.062</td>\n",
       "</tr>\n",
       "</table>"
      ],
      "text/latex": [
       "\\begin{center}\n",
       "\\begin{tabular}{lcccccc}\n",
       "\\toprule\n",
       "                       & \\textbf{coef} & \\textbf{std err} & \\textbf{t} & \\textbf{P$> |$t$|$} & \\textbf{[0.025} & \\textbf{0.975]}  \\\\\n",
       "\\midrule\n",
       "\\textbf{Intercept}     &       0.5216  &        0.033     &    15.632  &         0.000        &        0.456    &        0.587     \\\\\n",
       "\\textbf{is\\_treatment} &      -0.0232  &        0.043     &    -0.539  &         0.590        &       -0.108    &        0.062     \\\\\n",
       "\\bottomrule\n",
       "\\end{tabular}\n",
       "\\end{center}"
      ],
      "text/plain": [
       "<class 'statsmodels.iolib.table.SimpleTable'>"
      ]
     },
     "execution_count": 54,
     "metadata": {},
     "output_type": "execute_result"
    }
   ],
   "source": [
    "df_cluster_trial = pl.read_csv(URL_CLUSTER_TRIAL)\n",
    "# 施策効果の推定\n",
    "result = smf.ols(\n",
    "    formula=\"is_click ~ is_treatment\", data = df_cluster_trial\n",
    ").fit()\n",
    "# クラスター頑健標準誤差を用いて分析する\n",
    "result_corrected = result.get_robustcov_results(\n",
    "    \"cluster\", groups = df_cluster_trial[\"uid\"].to_pandas()\n",
    ")\n",
    "result_corrected.summary().tables[1]"
   ]
  },
  {
   "cell_type": "code",
   "execution_count": 55,
   "metadata": {},
   "outputs": [
    {
     "data": {
      "text/html": [
       "<div><style>\n",
       ".dataframe > thead > tr,\n",
       ".dataframe > tbody > tr {\n",
       "  text-align: right;\n",
       "  white-space: pre-wrap;\n",
       "}\n",
       "</style>\n",
       "<small>shape: (10_640, 3)</small><table border=\"1\" class=\"dataframe\"><thead><tr><th>uid</th><th>is_treatment</th><th>is_click</th></tr><tr><td>i64</td><td>i64</td><td>i64</td></tr></thead><tbody><tr><td>0</td><td>0</td><td>1</td></tr><tr><td>0</td><td>0</td><td>0</td></tr><tr><td>0</td><td>0</td><td>0</td></tr><tr><td>0</td><td>0</td><td>0</td></tr><tr><td>0</td><td>0</td><td>0</td></tr><tr><td>0</td><td>0</td><td>0</td></tr><tr><td>0</td><td>0</td><td>1</td></tr><tr><td>0</td><td>0</td><td>0</td></tr><tr><td>0</td><td>0</td><td>1</td></tr><tr><td>0</td><td>0</td><td>1</td></tr><tr><td>&hellip;</td><td>&hellip;</td><td>&hellip;</td></tr><tr><td>199</td><td>1</td><td>1</td></tr><tr><td>199</td><td>1</td><td>1</td></tr><tr><td>199</td><td>1</td><td>0</td></tr><tr><td>199</td><td>1</td><td>0</td></tr><tr><td>199</td><td>1</td><td>1</td></tr><tr><td>199</td><td>1</td><td>0</td></tr><tr><td>199</td><td>1</td><td>0</td></tr><tr><td>199</td><td>1</td><td>1</td></tr><tr><td>199</td><td>1</td><td>0</td></tr><tr><td>199</td><td>1</td><td>1</td></tr></tbody></table></div>"
      ],
      "text/plain": [
       "shape: (10_640, 3)\n",
       "┌─────┬──────────────┬──────────┐\n",
       "│ uid ┆ is_treatment ┆ is_click │\n",
       "│ --- ┆ ---          ┆ ---      │\n",
       "│ i64 ┆ i64          ┆ i64      │\n",
       "╞═════╪══════════════╪══════════╡\n",
       "│ 0   ┆ 0            ┆ 1        │\n",
       "│ 0   ┆ 0            ┆ 0        │\n",
       "│ 0   ┆ 0            ┆ 0        │\n",
       "│ 0   ┆ 0            ┆ 0        │\n",
       "│ 0   ┆ 0            ┆ 0        │\n",
       "│ 0   ┆ 0            ┆ 0        │\n",
       "│ 0   ┆ 0            ┆ 1        │\n",
       "│ 0   ┆ 0            ┆ 0        │\n",
       "│ 0   ┆ 0            ┆ 1        │\n",
       "│ 0   ┆ 0            ┆ 1        │\n",
       "│ …   ┆ …            ┆ …        │\n",
       "│ 199 ┆ 1            ┆ 1        │\n",
       "│ 199 ┆ 1            ┆ 1        │\n",
       "│ 199 ┆ 1            ┆ 0        │\n",
       "│ 199 ┆ 1            ┆ 0        │\n",
       "│ 199 ┆ 1            ┆ 1        │\n",
       "│ 199 ┆ 1            ┆ 0        │\n",
       "│ 199 ┆ 1            ┆ 0        │\n",
       "│ 199 ┆ 1            ┆ 1        │\n",
       "│ 199 ┆ 1            ┆ 0        │\n",
       "│ 199 ┆ 1            ┆ 1        │\n",
       "└─────┴──────────────┴──────────┘"
      ]
     },
     "execution_count": 55,
     "metadata": {},
     "output_type": "execute_result"
    }
   ],
   "source": [
    "df_cluster_trial"
   ]
  },
  {
   "cell_type": "markdown",
   "metadata": {},
   "source": [
    "#### プログラム3.8 クラスターA/BテストデータのA/Aテスト\n",
    "\n",
    "``` python\n",
    "def assign_treatment_randomly(uid, salt):\n",
    "    return (\n",
    "        int(hashlib.sha256(f\"{salt}_{uid}\".encode()).hexdigest(), 16)\n",
    "        % 2\n",
    "    )\n",
    "\n",
    "\n",
    "rng = np.random.default_rng(seed=0)\n",
    "replays = []\n",
    "for i in tqdm(range(300)):\n",
    "    # 擬似的な割り当て    \n",
    "    salt = f\"salt{i}\"\n",
    "    df_cluster[\"is_treatment_in_aa\"] = df_cluster[\"uid\"].apply(\n",
    "        assign_treatment_randomly, salt=salt\n",
    "    )\n",
    "    # 分析    \n",
    "    result = smf.ols(\n",
    "        formula=\"is_click ~ is_treatment_in_aa\", data=df_cluster\n",
    "    ).fit()\n",
    "    result_corrected = result.get_robustcov_results(\n",
    "        \"cluster\", groups=df_cluster[\"uid\"]\n",
    "    )\n",
    "    pvalue = result_corrected.pvalues[\n",
    "        result_corrected.model.exog_names.index(\"is_treatment_in_aa\")\n",
    "    ]\n",
    "    # 情報の格納    \n",
    "    replays.append(pvalue)\n",
    "```"
   ]
  },
  {
   "cell_type": "code",
   "execution_count": 56,
   "metadata": {},
   "outputs": [
    {
     "name": "stderr",
     "output_type": "stream",
     "text": [
      "100%|██████████| 300/300 [00:10<00:00, 28.56it/s]\n"
     ]
    }
   ],
   "source": [
    "def assign_treatment_randomly(uid, salt):\n",
    "    return (\n",
    "        int(hashlib.sha256(f\"{salt}_{uid}\".encode()).hexdigest(), 16)\n",
    "        % 2\n",
    "    )\n",
    "\n",
    "\n",
    "rng = np.random.default_rng(seed = 0)\n",
    "replays = []\n",
    "for i in tqdm(range(300)):\n",
    "    # 擬似的な割り当て\n",
    "    salt = f\"salt{i}\"\n",
    "    df_cluster = (\n",
    "        df_cluster\n",
    "        .with_columns(\n",
    "            pl.col(\"uid\")\n",
    "            .map_elements(lambda x: assign_treatment_randomly(uid = x, salt = salt), return_dtype = pl.Int64)\n",
    "            .alias(\"is_treatment_in_aa\")\n",
    "        )\n",
    "    )\n",
    "    # 分析\n",
    "    result = smf.ols(\n",
    "        formula = \"is_click ~ is_treatment_in_aa\", data = df_cluster\n",
    "    ).fit()\n",
    "    result_corrected = result.get_robustcov_results(\n",
    "        \"cluster\", groups = df_cluster[\"uid\"].to_pandas()\n",
    "    )\n",
    "    pvalue = result_corrected.pvalues[\n",
    "        result_corrected.model.exog_names.index(\"is_treatment_in_aa\")\n",
    "    ]\n",
    "    # 情報の格納\n",
    "    replays.append(pvalue)"
   ]
  },
  {
   "cell_type": "code",
   "execution_count": 57,
   "metadata": {},
   "outputs": [
    {
     "data": {
      "image/png": "[encoded data removed]",
      "text/plain": [
       "<Figure size 500x400 with 1 Axes>"
      ]
     },
     "metadata": {},
     "output_type": "display_data"
    }
   ],
   "source": [
    "fig, ax = plt.subplots(1, 1, figsize=(5, 4))\n",
    "ax.hist(replays)\n",
    "ax.set_facecolor(\"none\")\n",
    "ax.set_xlabel(\"pvalue\")\n",
    "ax.set_title(\"distribution of pvalue\")\n",
    "plt.show()"
   ]
  },
  {
   "cell_type": "code",
   "execution_count": 58,
   "metadata": {},
   "outputs": [
    {
     "data": {
      "text/plain": [
       "KstestResult(statistic=0.0431918216683526, pvalue=0.6145727388837272, statistic_location=0.08347484499831408, statistic_sign=1)"
      ]
     },
     "execution_count": 58,
     "metadata": {},
     "output_type": "execute_result"
    }
   ],
   "source": [
    "# 本文には掲載していない\n",
    "stats.kstest(replays, \"uniform\", args = (0, 1))"
   ]
  },
  {
   "cell_type": "markdown",
   "metadata": {},
   "source": [
    "### 層化A/Bテスト Stratified A/B Test"
   ]
  },
  {
   "cell_type": "markdown",
   "metadata": {},
   "source": [
    "#### プログラム3.9 シミュレーション：ランダムな割り当てをした場合の性別割合の偏り\n",
    "本文では次のように掲載しています。\n",
    "``` python\n",
    "rng = np.random.default_rng(seed=0)\n",
    "ratio = [\n",
    "    rng.choice([0, 1], p=[0.5, 0.5], size=500).mean()\n",
    "    for _ in range(100)\n",
    "]\n",
    "plt.hist(ratio)\n",
    "plt.xlabel(\"male ratio\")\n",
    "plt.ylabel(\"frequency\")\n",
    "plt.show()\n",
    "```"
   ]
  },
  {
   "cell_type": "code",
   "execution_count": 59,
   "metadata": {},
   "outputs": [
    {
     "data": {
      "image/png": "[encoded data removed]",
      "text/plain": [
       "<Figure size 640x480 with 1 Axes>"
      ]
     },
     "metadata": {},
     "output_type": "display_data"
    }
   ],
   "source": [
    "rng = np.random.default_rng(seed = 0)\n",
    "ratio = [\n",
    "    rng.choice([0, 1], p = [0.5, 0.5], size = 500).mean()\n",
    "    for _ in range(100)\n",
    "]\n",
    "plt.hist(ratio)\n",
    "plt.xlabel(\"male ratio\")\n",
    "plt.ylabel(\"frequency\")\n",
    "plt.show()"
   ]
  },
  {
   "cell_type": "markdown",
   "metadata": {},
   "source": [
    "#### プログラム3.10 層化A/B テストにおけるランダムな割り当て\n",
    "本文では次のように掲載しています。\n",
    "\n",
    "``` python\n",
    "import seaborn as sns\n",
    "\n",
    "def assign_strata(df_group, ratio_treat, rng, column_name):\n",
    "    num_samples = round(len(df_group) * ratio_treat)\n",
    "    df_group[column_name] = 0\n",
    "    treat_indices = rng.choice(\n",
    "        df_group.index, num_samples, replace=False\n",
    "    )\n",
    "    df_group.loc[treat_indices, column_name] = 1\n",
    "    return df_group\n",
    "\n",
    "\n",
    "# データの読み込み\n",
    "df_titanic = sns.load_dataset(\"titanic\")[\n",
    "    [\"survived\", \"sex\", \"pclass\"]\n",
    "]\n",
    "# groupbyメソッドを用いて無作為抽出\n",
    "rng = np.random.default_rng(11)\n",
    "df_titanic_assigned = df_titanic.groupby(\n",
    "    [\"sex\", \"pclass\"], group_keys=False\n",
    ").apply(\n",
    "    assign_strata, ratio_treat=0.3, column_name=\"is_treat\", rng=rng\n",
    ")\n",
    "```"
   ]
  },
  {
   "cell_type": "code",
   "execution_count": 60,
   "metadata": {},
   "outputs": [],
   "source": [
    "def assign_strata(df_group, ratio_treat, rng, column_name):\n",
    "    num_samples = round(len(df_group) * ratio_treat)\n",
    "    column_name_ndarray = np.zeros(len(df_group))\n",
    "    treat_indices = rng.choice(\n",
    "        range(len(df_group)), num_samples, replace=False\n",
    "    )\n",
    "    column_name_ndarray[treat_indices] = 1\n",
    "    df_group_clone = df_group.clone()\n",
    "    df_group_clone = df_group_clone.with_columns(pl.Series(column_name, column_name_ndarray))\n",
    "    return df_group_clone\n",
    "\n",
    "\n",
    "# データの読み込み\n",
    "df_titanic = pl.from_pandas(sns.load_dataset(\"titanic\")[\n",
    "    [\"survived\", \"sex\", \"pclass\"]\n",
    "])\n",
    "# groupbyメソッドを用いて無作為抽出\n",
    "rng = np.random.default_rng(11)\n",
    "df_titanic_assigned = (\n",
    "    df_titanic\n",
    "    .group_by(\"sex\", \"pclass\")\n",
    "    .map_groups(lambda x: assign_strata(df_group = x, ratio_treat = 0.3, rng = rng, column_name = \"is_treat\"))\n",
    ")"
   ]
  },
  {
   "cell_type": "code",
   "execution_count": 61,
   "metadata": {},
   "outputs": [
    {
     "data": {
      "text/html": [
       "<div><style>\n",
       ".dataframe > thead > tr,\n",
       ".dataframe > tbody > tr {\n",
       "  text-align: right;\n",
       "  white-space: pre-wrap;\n",
       "}\n",
       "</style>\n",
       "<small>shape: (891, 4)</small><table border=\"1\" class=\"dataframe\"><thead><tr><th>survived</th><th>sex</th><th>pclass</th><th>is_treat</th></tr><tr><td>i64</td><td>str</td><td>i64</td><td>f64</td></tr></thead><tbody><tr><td>1</td><td>&quot;female&quot;</td><td>1</td><td>0.0</td></tr><tr><td>1</td><td>&quot;female&quot;</td><td>1</td><td>0.0</td></tr><tr><td>1</td><td>&quot;female&quot;</td><td>1</td><td>1.0</td></tr><tr><td>1</td><td>&quot;female&quot;</td><td>1</td><td>0.0</td></tr><tr><td>1</td><td>&quot;female&quot;</td><td>1</td><td>0.0</td></tr><tr><td>1</td><td>&quot;female&quot;</td><td>1</td><td>1.0</td></tr><tr><td>1</td><td>&quot;female&quot;</td><td>1</td><td>0.0</td></tr><tr><td>1</td><td>&quot;female&quot;</td><td>1</td><td>0.0</td></tr><tr><td>1</td><td>&quot;female&quot;</td><td>1</td><td>1.0</td></tr><tr><td>1</td><td>&quot;female&quot;</td><td>1</td><td>0.0</td></tr><tr><td>&hellip;</td><td>&hellip;</td><td>&hellip;</td><td>&hellip;</td></tr><tr><td>0</td><td>&quot;male&quot;</td><td>2</td><td>0.0</td></tr><tr><td>0</td><td>&quot;male&quot;</td><td>2</td><td>0.0</td></tr><tr><td>1</td><td>&quot;male&quot;</td><td>2</td><td>0.0</td></tr><tr><td>1</td><td>&quot;male&quot;</td><td>2</td><td>0.0</td></tr><tr><td>0</td><td>&quot;male&quot;</td><td>2</td><td>0.0</td></tr><tr><td>0</td><td>&quot;male&quot;</td><td>2</td><td>1.0</td></tr><tr><td>0</td><td>&quot;male&quot;</td><td>2</td><td>1.0</td></tr><tr><td>0</td><td>&quot;male&quot;</td><td>2</td><td>1.0</td></tr><tr><td>0</td><td>&quot;male&quot;</td><td>2</td><td>0.0</td></tr><tr><td>0</td><td>&quot;male&quot;</td><td>2</td><td>0.0</td></tr></tbody></table></div>"
      ],
      "text/plain": [
       "shape: (891, 4)\n",
       "┌──────────┬────────┬────────┬──────────┐\n",
       "│ survived ┆ sex    ┆ pclass ┆ is_treat │\n",
       "│ ---      ┆ ---    ┆ ---    ┆ ---      │\n",
       "│ i64      ┆ str    ┆ i64    ┆ f64      │\n",
       "╞══════════╪════════╪════════╪══════════╡\n",
       "│ 1        ┆ female ┆ 1      ┆ 0.0      │\n",
       "│ 1        ┆ female ┆ 1      ┆ 0.0      │\n",
       "│ 1        ┆ female ┆ 1      ┆ 1.0      │\n",
       "│ 1        ┆ female ┆ 1      ┆ 0.0      │\n",
       "│ 1        ┆ female ┆ 1      ┆ 0.0      │\n",
       "│ 1        ┆ female ┆ 1      ┆ 1.0      │\n",
       "│ 1        ┆ female ┆ 1      ┆ 0.0      │\n",
       "│ 1        ┆ female ┆ 1      ┆ 0.0      │\n",
       "│ 1        ┆ female ┆ 1      ┆ 1.0      │\n",
       "│ 1        ┆ female ┆ 1      ┆ 0.0      │\n",
       "│ …        ┆ …      ┆ …      ┆ …        │\n",
       "│ 0        ┆ male   ┆ 2      ┆ 0.0      │\n",
       "│ 0        ┆ male   ┆ 2      ┆ 0.0      │\n",
       "│ 1        ┆ male   ┆ 2      ┆ 0.0      │\n",
       "│ 1        ┆ male   ┆ 2      ┆ 0.0      │\n",
       "│ 0        ┆ male   ┆ 2      ┆ 0.0      │\n",
       "│ 0        ┆ male   ┆ 2      ┆ 1.0      │\n",
       "│ 0        ┆ male   ┆ 2      ┆ 1.0      │\n",
       "│ 0        ┆ male   ┆ 2      ┆ 1.0      │\n",
       "│ 0        ┆ male   ┆ 2      ┆ 0.0      │\n",
       "│ 0        ┆ male   ┆ 2      ┆ 0.0      │\n",
       "└──────────┴────────┴────────┴──────────┘"
      ]
     },
     "execution_count": 61,
     "metadata": {},
     "output_type": "execute_result"
    }
   ],
   "source": [
    "df_titanic_assigned"
   ]
  },
  {
   "cell_type": "markdown",
   "metadata": {},
   "source": [
    "#### プログラム3.11　サブグループごとの割当比率を確認する"
   ]
  },
  {
   "cell_type": "code",
   "execution_count": 62,
   "metadata": {},
   "outputs": [
    {
     "data": {
      "text/html": [
       "<div><style>\n",
       ".dataframe > thead > tr,\n",
       ".dataframe > tbody > tr {\n",
       "  text-align: right;\n",
       "  white-space: pre-wrap;\n",
       "}\n",
       "</style>\n",
       "<small>shape: (6, 3)</small><table border=\"1\" class=\"dataframe\"><thead><tr><th>sex</th><th>pclass</th><th>is_treat</th></tr><tr><td>str</td><td>i64</td><td>f64</td></tr></thead><tbody><tr><td>&quot;female&quot;</td><td>1</td><td>0.297872</td></tr><tr><td>&quot;female&quot;</td><td>2</td><td>0.302632</td></tr><tr><td>&quot;female&quot;</td><td>3</td><td>0.298611</td></tr><tr><td>&quot;male&quot;</td><td>1</td><td>0.303279</td></tr><tr><td>&quot;male&quot;</td><td>2</td><td>0.296296</td></tr><tr><td>&quot;male&quot;</td><td>3</td><td>0.299712</td></tr></tbody></table></div>"
      ],
      "text/plain": [
       "shape: (6, 3)\n",
       "┌────────┬────────┬──────────┐\n",
       "│ sex    ┆ pclass ┆ is_treat │\n",
       "│ ---    ┆ ---    ┆ ---      │\n",
       "│ str    ┆ i64    ┆ f64      │\n",
       "╞════════╪════════╪══════════╡\n",
       "│ female ┆ 1      ┆ 0.297872 │\n",
       "│ female ┆ 2      ┆ 0.302632 │\n",
       "│ female ┆ 3      ┆ 0.298611 │\n",
       "│ male   ┆ 1      ┆ 0.303279 │\n",
       "│ male   ┆ 2      ┆ 0.296296 │\n",
       "│ male   ┆ 3      ┆ 0.299712 │\n",
       "└────────┴────────┴──────────┘"
      ]
     },
     "execution_count": 62,
     "metadata": {},
     "output_type": "execute_result"
    }
   ],
   "source": [
    "df_titanic_assigned.group_by(\"sex\", \"pclass\").agg(pl.mean(\"is_treat\")).sort(\"sex\", \"pclass\")"
   ]
  },
  {
   "cell_type": "markdown",
   "metadata": {},
   "source": [
    "#### 層化A/Bテストの分析の実装"
   ]
  },
  {
   "cell_type": "markdown",
   "metadata": {},
   "source": [
    "#### プログラム3.12 層化A/B テストの分析（通常のA/B テストと同様に行った場合）\n",
    "本書では次のように掲載しています。\n",
    "``` python\n",
    "df_stratified = pd.read_csv(URL_STRATIFIED_TRIAL)\n",
    "# 分析\n",
    "result = smf.ols(formula=\"y ~ is_treatment\", data=df_stratified).fit()\n",
    "result.summary().tables[1]\n",
    "```"
   ]
  },
  {
   "cell_type": "code",
   "execution_count": 63,
   "metadata": {},
   "outputs": [
    {
     "data": {
      "text/html": [
       "<table class=\"simpletable\">\n",
       "<tr>\n",
       "        <td></td>          <th>coef</th>     <th>std err</th>      <th>t</th>      <th>P>|t|</th>  <th>[0.025</th>    <th>0.975]</th>  \n",
       "</tr>\n",
       "<tr>\n",
       "  <th>Intercept</th>    <td>   -5.9951</td> <td>    0.332</td> <td>  -18.036</td> <td> 0.000</td> <td>   -6.654</td> <td>   -5.336</td>\n",
       "</tr>\n",
       "<tr>\n",
       "  <th>is_treatment</th> <td>    0.5530</td> <td>    0.468</td> <td>    1.182</td> <td> 0.240</td> <td>   -0.375</td> <td>    1.481</td>\n",
       "</tr>\n",
       "</table>"
      ],
      "text/latex": [
       "\\begin{center}\n",
       "\\begin{tabular}{lcccccc}\n",
       "\\toprule\n",
       "                       & \\textbf{coef} & \\textbf{std err} & \\textbf{t} & \\textbf{P$> |$t$|$} & \\textbf{[0.025} & \\textbf{0.975]}  \\\\\n",
       "\\midrule\n",
       "\\textbf{Intercept}     &      -5.9951  &        0.332     &   -18.036  &         0.000        &       -6.654    &       -5.336     \\\\\n",
       "\\textbf{is\\_treatment} &       0.5530  &        0.468     &     1.182  &         0.240        &       -0.375    &        1.481     \\\\\n",
       "\\bottomrule\n",
       "\\end{tabular}\n",
       "\\end{center}"
      ],
      "text/plain": [
       "<class 'statsmodels.iolib.table.SimpleTable'>"
      ]
     },
     "execution_count": 63,
     "metadata": {},
     "output_type": "execute_result"
    }
   ],
   "source": [
    "df_stratified = pl.read_csv(URL_STRATIFIED_TRIAL)\n",
    "# 分析\n",
    "result = smf.ols(formula = \"y ~ is_treatment\", data = df_stratified).fit()\n",
    "result.summary().tables[1]"
   ]
  },
  {
   "cell_type": "code",
   "execution_count": 64,
   "metadata": {},
   "outputs": [
    {
     "data": {
      "text/html": [
       "<div><style>\n",
       ".dataframe > thead > tr,\n",
       ".dataframe > tbody > tr {\n",
       "  text-align: right;\n",
       "  white-space: pre-wrap;\n",
       "}\n",
       "</style>\n",
       "<small>shape: (109, 3)</small><table border=\"1\" class=\"dataframe\"><thead><tr><th>is_treatment</th><th>group_name</th><th>y</th></tr><tr><td>i64</td><td>i64</td><td>f64</td></tr></thead><tbody><tr><td>0</td><td>0</td><td>-7.094851</td></tr><tr><td>0</td><td>0</td><td>-2.853676</td></tr><tr><td>1</td><td>0</td><td>-3.024156</td></tr><tr><td>1</td><td>0</td><td>-4.989469</td></tr><tr><td>1</td><td>0</td><td>-2.72484</td></tr><tr><td>1</td><td>0</td><td>-4.821004</td></tr><tr><td>0</td><td>0</td><td>-5.207207</td></tr><tr><td>0</td><td>0</td><td>-3.675816</td></tr><tr><td>1</td><td>0</td><td>-4.375619</td></tr><tr><td>1</td><td>0</td><td>-4.105979</td></tr><tr><td>&hellip;</td><td>&hellip;</td><td>&hellip;</td></tr><tr><td>0</td><td>1</td><td>-10.074762</td></tr><tr><td>1</td><td>1</td><td>-8.915008</td></tr><tr><td>0</td><td>1</td><td>-11.824614</td></tr><tr><td>1</td><td>1</td><td>-10.277058</td></tr><tr><td>1</td><td>1</td><td>-8.104482</td></tr><tr><td>0</td><td>1</td><td>-9.971287</td></tr><tr><td>1</td><td>1</td><td>-10.593688</td></tr><tr><td>1</td><td>1</td><td>-6.99084</td></tr><tr><td>0</td><td>1</td><td>-7.83372</td></tr><tr><td>1</td><td>1</td><td>-9.780341</td></tr></tbody></table></div>"
      ],
      "text/plain": [
       "shape: (109, 3)\n",
       "┌──────────────┬────────────┬────────────┐\n",
       "│ is_treatment ┆ group_name ┆ y          │\n",
       "│ ---          ┆ ---        ┆ ---        │\n",
       "│ i64          ┆ i64        ┆ f64        │\n",
       "╞══════════════╪════════════╪════════════╡\n",
       "│ 0            ┆ 0          ┆ -7.094851  │\n",
       "│ 0            ┆ 0          ┆ -2.853676  │\n",
       "│ 1            ┆ 0          ┆ -3.024156  │\n",
       "│ 1            ┆ 0          ┆ -4.989469  │\n",
       "│ 1            ┆ 0          ┆ -2.72484   │\n",
       "│ 1            ┆ 0          ┆ -4.821004  │\n",
       "│ 0            ┆ 0          ┆ -5.207207  │\n",
       "│ 0            ┆ 0          ┆ -3.675816  │\n",
       "│ 1            ┆ 0          ┆ -4.375619  │\n",
       "│ 1            ┆ 0          ┆ -4.105979  │\n",
       "│ …            ┆ …          ┆ …          │\n",
       "│ 0            ┆ 1          ┆ -10.074762 │\n",
       "│ 1            ┆ 1          ┆ -8.915008  │\n",
       "│ 0            ┆ 1          ┆ -11.824614 │\n",
       "│ 1            ┆ 1          ┆ -10.277058 │\n",
       "│ 1            ┆ 1          ┆ -8.104482  │\n",
       "│ 0            ┆ 1          ┆ -9.971287  │\n",
       "│ 1            ┆ 1          ┆ -10.593688 │\n",
       "│ 1            ┆ 1          ┆ -6.99084   │\n",
       "│ 0            ┆ 1          ┆ -7.83372   │\n",
       "│ 1            ┆ 1          ┆ -9.780341  │\n",
       "└──────────────┴────────────┴────────────┘"
      ]
     },
     "execution_count": 64,
     "metadata": {},
     "output_type": "execute_result"
    }
   ],
   "source": [
    "df_stratified"
   ]
  },
  {
   "cell_type": "markdown",
   "metadata": {},
   "source": [
    "#### プログラム3.13 層化 A/B テストの分析（ダミー変数を利用した場合）\n",
    "``` python\n",
    "result = smf.ols(\n",
    "    formula=\"y ~ is_treatment + C(group_name)\", data=df_stratified\n",
    ").fit()\n",
    "result.summary().tables[1]\n",
    "```"
   ]
  },
  {
   "cell_type": "code",
   "execution_count": 65,
   "metadata": {},
   "outputs": [
    {
     "data": {
      "text/html": [
       "<table class=\"simpletable\">\n",
       "<tr>\n",
       "           <td></td>             <th>coef</th>     <th>std err</th>      <th>t</th>      <th>P>|t|</th>  <th>[0.025</th>    <th>0.975]</th>  \n",
       "</tr>\n",
       "<tr>\n",
       "  <th>Intercept</th>          <td>   -4.7373</td> <td>    0.141</td> <td>  -33.649</td> <td> 0.000</td> <td>   -5.016</td> <td>   -4.458</td>\n",
       "</tr>\n",
       "<tr>\n",
       "  <th>C(group_name)[T.1]</th> <td>   -5.2247</td> <td>    0.216</td> <td>  -24.182</td> <td> 0.000</td> <td>   -5.653</td> <td>   -4.796</td>\n",
       "</tr>\n",
       "<tr>\n",
       "  <th>is_treatment</th>       <td>    0.5301</td> <td>    0.184</td> <td>    2.878</td> <td> 0.005</td> <td>    0.165</td> <td>    0.895</td>\n",
       "</tr>\n",
       "</table>"
      ],
      "text/latex": [
       "\\begin{center}\n",
       "\\begin{tabular}{lcccccc}\n",
       "\\toprule\n",
       "                             & \\textbf{coef} & \\textbf{std err} & \\textbf{t} & \\textbf{P$> |$t$|$} & \\textbf{[0.025} & \\textbf{0.975]}  \\\\\n",
       "\\midrule\n",
       "\\textbf{Intercept}           &      -4.7373  &        0.141     &   -33.649  &         0.000        &       -5.016    &       -4.458     \\\\\n",
       "\\textbf{C(group\\_name)[T.1]} &      -5.2247  &        0.216     &   -24.182  &         0.000        &       -5.653    &       -4.796     \\\\\n",
       "\\textbf{is\\_treatment}       &       0.5301  &        0.184     &     2.878  &         0.005        &        0.165    &        0.895     \\\\\n",
       "\\bottomrule\n",
       "\\end{tabular}\n",
       "\\end{center}"
      ],
      "text/plain": [
       "<class 'statsmodels.iolib.table.SimpleTable'>"
      ]
     },
     "execution_count": 65,
     "metadata": {},
     "output_type": "execute_result"
    }
   ],
   "source": [
    "result = smf.ols(\n",
    "    formula = \"y ~ is_treatment + C(group_name)\", data = df_stratified.to_pandas()\n",
    ").fit()\n",
    "result.summary().tables[1]"
   ]
  },
  {
   "cell_type": "markdown",
   "metadata": {},
   "source": [
    "## 処置と割当の不一致 A/B テストにおける Non-compliance\n",
    "#### プログラム3.14 施策意図の効果の分析：Intent to Treat\n",
    "本文では次のように掲載しています。\n",
    "``` python\n",
    "df_noncompliance = pd.read_csv(URL_NONCOMPLIANCE)\n",
    "# Intent to Treatの分析\n",
    "result = smf.ols(\n",
    "    formula=\"purchase ~ assignment\", data=df_noncompliance\n",
    ").fit()\n",
    "result.summary().tables[1]\n",
    "```"
   ]
  },
  {
   "cell_type": "code",
   "execution_count": 66,
   "metadata": {},
   "outputs": [
    {
     "data": {
      "text/html": [
       "<table class=\"simpletable\">\n",
       "<tr>\n",
       "       <td></td>         <th>coef</th>     <th>std err</th>      <th>t</th>      <th>P>|t|</th>  <th>[0.025</th>    <th>0.975]</th>  \n",
       "</tr>\n",
       "<tr>\n",
       "  <th>Intercept</th>  <td> 9918.2820</td> <td>   64.690</td> <td>  153.321</td> <td> 0.000</td> <td> 9791.338</td> <td>    1e+04</td>\n",
       "</tr>\n",
       "<tr>\n",
       "  <th>assignment</th> <td>  197.0536</td> <td>   92.320</td> <td>    2.134</td> <td> 0.033</td> <td>   15.890</td> <td>  378.217</td>\n",
       "</tr>\n",
       "</table>"
      ],
      "text/latex": [
       "\\begin{center}\n",
       "\\begin{tabular}{lcccccc}\n",
       "\\toprule\n",
       "                    & \\textbf{coef} & \\textbf{std err} & \\textbf{t} & \\textbf{P$> |$t$|$} & \\textbf{[0.025} & \\textbf{0.975]}  \\\\\n",
       "\\midrule\n",
       "\\textbf{Intercept}  &    9918.2820  &       64.690     &   153.321  &         0.000        &     9791.338    &        1e+04     \\\\\n",
       "\\textbf{assignment} &     197.0536  &       92.320     &     2.134  &         0.033        &       15.890    &      378.217     \\\\\n",
       "\\bottomrule\n",
       "\\end{tabular}\n",
       "\\end{center}"
      ],
      "text/plain": [
       "<class 'statsmodels.iolib.table.SimpleTable'>"
      ]
     },
     "execution_count": 66,
     "metadata": {},
     "output_type": "execute_result"
    }
   ],
   "source": [
    "df_noncompliance = pl.read_csv(URL_NONCOMPLIANCE)\n",
    "# Intent to Treatの分析\n",
    "result = smf.ols(\n",
    "    formula = \"purchase ~ assignment\", data = df_noncompliance\n",
    ").fit()\n",
    "result.summary().tables[1]"
   ]
  },
  {
   "cell_type": "code",
   "execution_count": 67,
   "metadata": {},
   "outputs": [
    {
     "data": {
      "text/html": [
       "<div><style>\n",
       ".dataframe > thead > tr,\n",
       ".dataframe > tbody > tr {\n",
       "  text-align: right;\n",
       "  white-space: pre-wrap;\n",
       "}\n",
       "</style>\n",
       "<small>shape: (1_000, 4)</small><table border=\"1\" class=\"dataframe\"><thead><tr><th>assignment</th><th>x</th><th>is_deliver</th><th>purchase</th></tr><tr><td>f64</td><td>f64</td><td>f64</td><td>f64</td></tr></thead><tbody><tr><td>0.0</td><td>0.017286</td><td>0.0</td><td>10563.182011</td></tr><tr><td>1.0</td><td>-0.037921</td><td>1.0</td><td>8861.781424</td></tr><tr><td>1.0</td><td>0.056103</td><td>0.0</td><td>11450.231477</td></tr><tr><td>1.0</td><td>-0.213583</td><td>0.0</td><td>8357.833101</td></tr><tr><td>0.0</td><td>0.023237</td><td>0.0</td><td>10755.016507</td></tr><tr><td>0.0</td><td>0.002813</td><td>0.0</td><td>9887.109547</td></tr><tr><td>1.0</td><td>-0.137034</td><td>1.0</td><td>9763.129997</td></tr><tr><td>1.0</td><td>0.21756</td><td>1.0</td><td>11536.532317</td></tr><tr><td>0.0</td><td>-0.138741</td><td>0.0</td><td>8392.004915</td></tr><tr><td>0.0</td><td>-0.107752</td><td>0.0</td><td>7491.081893</td></tr><tr><td>&hellip;</td><td>&hellip;</td><td>&hellip;</td><td>&hellip;</td></tr><tr><td>0.0</td><td>0.002657</td><td>0.0</td><td>9036.112239</td></tr><tr><td>1.0</td><td>-0.008236</td><td>0.0</td><td>11587.481171</td></tr><tr><td>1.0</td><td>0.075611</td><td>1.0</td><td>11797.407773</td></tr><tr><td>1.0</td><td>0.056226</td><td>0.0</td><td>9778.276196</td></tr><tr><td>1.0</td><td>-0.058971</td><td>1.0</td><td>11243.581658</td></tr><tr><td>0.0</td><td>-0.082353</td><td>0.0</td><td>9127.673875</td></tr><tr><td>0.0</td><td>-0.108672</td><td>0.0</td><td>9919.530298</td></tr><tr><td>1.0</td><td>-0.125113</td><td>0.0</td><td>9469.139734</td></tr><tr><td>1.0</td><td>0.140215</td><td>1.0</td><td>11103.90809</td></tr><tr><td>1.0</td><td>-0.091654</td><td>0.0</td><td>9566.498515</td></tr></tbody></table></div>"
      ],
      "text/plain": [
       "shape: (1_000, 4)\n",
       "┌────────────┬───────────┬────────────┬──────────────┐\n",
       "│ assignment ┆ x         ┆ is_deliver ┆ purchase     │\n",
       "│ ---        ┆ ---       ┆ ---        ┆ ---          │\n",
       "│ f64        ┆ f64       ┆ f64        ┆ f64          │\n",
       "╞════════════╪═══════════╪════════════╪══════════════╡\n",
       "│ 0.0        ┆ 0.017286  ┆ 0.0        ┆ 10563.182011 │\n",
       "│ 1.0        ┆ -0.037921 ┆ 1.0        ┆ 8861.781424  │\n",
       "│ 1.0        ┆ 0.056103  ┆ 0.0        ┆ 11450.231477 │\n",
       "│ 1.0        ┆ -0.213583 ┆ 0.0        ┆ 8357.833101  │\n",
       "│ 0.0        ┆ 0.023237  ┆ 0.0        ┆ 10755.016507 │\n",
       "│ 0.0        ┆ 0.002813  ┆ 0.0        ┆ 9887.109547  │\n",
       "│ 1.0        ┆ -0.137034 ┆ 1.0        ┆ 9763.129997  │\n",
       "│ 1.0        ┆ 0.21756   ┆ 1.0        ┆ 11536.532317 │\n",
       "│ 0.0        ┆ -0.138741 ┆ 0.0        ┆ 8392.004915  │\n",
       "│ 0.0        ┆ -0.107752 ┆ 0.0        ┆ 7491.081893  │\n",
       "│ …          ┆ …         ┆ …          ┆ …            │\n",
       "│ 0.0        ┆ 0.002657  ┆ 0.0        ┆ 9036.112239  │\n",
       "│ 1.0        ┆ -0.008236 ┆ 0.0        ┆ 11587.481171 │\n",
       "│ 1.0        ┆ 0.075611  ┆ 1.0        ┆ 11797.407773 │\n",
       "│ 1.0        ┆ 0.056226  ┆ 0.0        ┆ 9778.276196  │\n",
       "│ 1.0        ┆ -0.058971 ┆ 1.0        ┆ 11243.581658 │\n",
       "│ 0.0        ┆ -0.082353 ┆ 0.0        ┆ 9127.673875  │\n",
       "│ 0.0        ┆ -0.108672 ┆ 0.0        ┆ 9919.530298  │\n",
       "│ 1.0        ┆ -0.125113 ┆ 0.0        ┆ 9469.139734  │\n",
       "│ 1.0        ┆ 0.140215  ┆ 1.0        ┆ 11103.90809  │\n",
       "│ 1.0        ┆ -0.091654 ┆ 0.0        ┆ 9566.498515  │\n",
       "└────────────┴───────────┴────────────┴──────────────┘"
      ]
     },
     "execution_count": 67,
     "metadata": {},
     "output_type": "execute_result"
    }
   ],
   "source": [
    "df_noncompliance"
   ]
  },
  {
   "cell_type": "markdown",
   "metadata": {},
   "source": [
    "#### プログラム3.15 平均的な開封割合の確認"
   ]
  },
  {
   "cell_type": "code",
   "execution_count": 69,
   "metadata": {},
   "outputs": [
    {
     "data": {
      "text/html": [
       "<div><style>\n",
       ".dataframe > thead > tr,\n",
       ".dataframe > tbody > tr {\n",
       "  text-align: right;\n",
       "  white-space: pre-wrap;\n",
       "}\n",
       "</style>\n",
       "<small>shape: (2, 2)</small><table border=\"1\" class=\"dataframe\"><thead><tr><th>assignment</th><th>is_deliver</th></tr><tr><td>f64</td><td>f64</td></tr></thead><tbody><tr><td>0.0</td><td>0.0</td></tr><tr><td>1.0</td><td>0.450102</td></tr></tbody></table></div>"
      ],
      "text/plain": [
       "shape: (2, 2)\n",
       "┌────────────┬────────────┐\n",
       "│ assignment ┆ is_deliver │\n",
       "│ ---        ┆ ---        │\n",
       "│ f64        ┆ f64        │\n",
       "╞════════════╪════════════╡\n",
       "│ 0.0        ┆ 0.0        │\n",
       "│ 1.0        ┆ 0.450102   │\n",
       "└────────────┴────────────┘"
      ]
     },
     "execution_count": 69,
     "metadata": {},
     "output_type": "execute_result"
    }
   ],
   "source": [
    "df_noncompliance.group_by(\"assignment\").agg(pl.mean(\"is_deliver\")).sort(\"assignment\")"
   ]
  },
  {
   "cell_type": "markdown",
   "metadata": {},
   "source": [
    "####  プログラム3.16 操作変数法の2段階推定による施策効果を復元する分析\n",
    "本文では次のように掲載しています。\n",
    "\n",
    "``` python\n",
    "from linearmodels.iv import IV2SLS\n",
    "\n",
    "# 操作変数法の2段階推定\n",
    "iv = IV2SLS.from_formula(\n",
    "    formula=\"purchase ~ 1 + [is_deliver ~ assignment] + x\",\n",
    "    data=df_noncompliance,\n",
    ").fit()\n",
    "iv.summary.tables[1]\n",
    "```"
   ]
  },
  {
   "cell_type": "code",
   "execution_count": 71,
   "metadata": {},
   "outputs": [
    {
     "data": {
      "text/html": [
       "<table class=\"simpletable\">\n",
       "<caption>Parameter Estimates</caption>\n",
       "<tr>\n",
       "       <td></td>      <th>Parameter</th> <th>Std. Err.</th> <th>T-stat</th> <th>P-value</th> <th>Lower CI</th> <th>Upper CI</th> \n",
       "</tr>\n",
       "<tr>\n",
       "  <th>Intercept</th>   <td>9943.6</td>    <td>42.853</td>   <td>232.04</td> <td>0.0000</td>   <td>9859.6</td>  <td>1.003e+04</td>\n",
       "</tr>\n",
       "<tr>\n",
       "  <th>x</th>           <td>9714.6</td>    <td>290.72</td>   <td>33.416</td> <td>0.0000</td>   <td>9144.8</td>  <td>1.028e+04</td>\n",
       "</tr>\n",
       "<tr>\n",
       "  <th>is_deliver</th>  <td>533.98</td>    <td>141.26</td>   <td>3.7802</td> <td>0.0002</td>   <td>257.12</td>   <td>810.84</td>  \n",
       "</tr>\n",
       "</table>"
      ],
      "text/latex": [
       "\\begin{center}\n",
       "\\begin{tabular}{lcccccc}\n",
       "\\toprule\n",
       "                     & \\textbf{Parameter} & \\textbf{Std. Err.} & \\textbf{T-stat} & \\textbf{P-value} & \\textbf{Lower CI} & \\textbf{Upper CI}  \\\\\n",
       "\\midrule\n",
       "\\textbf{Intercept}   &       9943.6       &       42.853       &      232.04     &      0.0000      &       9859.6      &     1.003e+04      \\\\\n",
       "\\textbf{x}           &       9714.6       &       290.72       &      33.416     &      0.0000      &       9144.8      &     1.028e+04      \\\\\n",
       "\\textbf{is\\_deliver} &       533.98       &       141.26       &      3.7802     &      0.0002      &       257.12      &       810.84       \\\\\n",
       "\\bottomrule\n",
       "\\end{tabular}\n",
       "%\\caption{Parameter Estimates}\n",
       "\\end{center}"
      ],
      "text/plain": [
       "<class 'statsmodels.iolib.table.SimpleTable'>"
      ]
     },
     "execution_count": 71,
     "metadata": {},
     "output_type": "execute_result"
    }
   ],
   "source": [
    "# 操作変数法の2段階推定\n",
    "iv = IV2SLS.from_formula(\n",
    "    formula = \"purchase ~ 1 + [is_deliver ~ assignment] + x\",\n",
    "    data = df_noncompliance.to_pandas(),\n",
    ").fit()\n",
    "iv.summary.tables[1]"
   ]
  },
  {
   "cell_type": "code",
   "execution_count": 72,
   "metadata": {},
   "outputs": [
    {
     "data": {
      "text/html": [
       "<table class=\"simpletable\">\n",
       "<caption>First Stage Estimation Results</caption>\n",
       "<tr>\n",
       "               <td></td>              <th>is_deliver</th>\n",
       "</tr>\n",
       "<tr>\n",
       "  <th>R-squared</th>                    <td>0.3018</td>  \n",
       "</tr>\n",
       "<tr>\n",
       "  <th>Partial R-squared</th>            <td>0.2977</td>  \n",
       "</tr>\n",
       "<tr>\n",
       "  <th>Shea's R-squared</th>             <td>0.2977</td>  \n",
       "</tr>\n",
       "<tr>\n",
       "  <th>Partial F-statistic</th>          <td>408.62</td>  \n",
       "</tr>\n",
       "<tr>\n",
       "  <th>P-value (Partial F-stat)</th>     <td>0.0000</td>  \n",
       "</tr>\n",
       "<tr>\n",
       "  <th>Partial F-stat Distn</th>         <td>chi2(1)</td> \n",
       "</tr>\n",
       "<tr>\n",
       "  <th>==========================</th> <td>==========</td>\n",
       "</tr>\n",
       "<tr>\n",
       "  <th>Intercept</th>                    <td>0.0009</td>  \n",
       "</tr>\n",
       "<tr>\n",
       "  <th></th>                            <td>(0.5299)</td> \n",
       "</tr>\n",
       "<tr>\n",
       "  <th>x</th>                            <td>0.3463</td>  \n",
       "</tr>\n",
       "<tr>\n",
       "  <th></th>                            <td>(3.5060)</td> \n",
       "</tr>\n",
       "<tr>\n",
       "  <th>assignment</th>                   <td>0.4516</td>  \n",
       "</tr>\n",
       "<tr>\n",
       "  <th></th>                            <td>(20.214)</td> \n",
       "</tr>\n",
       "</table><br/><br/>T-stats reported in parentheses<br/>T-stats use same covariance type as original model<br/>id: 0x2a8d9b5f010"
      ],
      "text/plain": [
       "    First Stage Estimation Results   \n",
       "=====================================\n",
       "                           is_deliver\n",
       "-------------------------------------\n",
       "R-squared                      0.3018\n",
       "Partial R-squared              0.2977\n",
       "Shea's R-squared               0.2977\n",
       "Partial F-statistic            408.62\n",
       "P-value (Partial F-stat)       0.0000\n",
       "Partial F-stat Distn          chi2(1)\n",
       "========================== ==========\n",
       "Intercept                      0.0009\n",
       "                             (0.5299)\n",
       "x                              0.3463\n",
       "                             (3.5060)\n",
       "assignment                     0.4516\n",
       "                             (20.214)\n",
       "-------------------------------------\n",
       "\n",
       "T-stats reported in parentheses\n",
       "T-stats use same covariance type as original model\n",
       "FirstStageResults, id: 0x2a8d9b5f010"
      ]
     },
     "execution_count": 72,
     "metadata": {},
     "output_type": "execute_result"
    }
   ],
   "source": [
    "iv.first_stage"
   ]
  },
  {
   "cell_type": "markdown",
   "metadata": {},
   "source": [
    "# 共変量を入れて分析をする\n",
    "#### プログラム3.17 共変量を考慮したA/B テストの分析\n",
    "本文では次のように記していました。\n",
    "``` python\n",
    "df_abtest = pd.read_csv(URL_LENTA_DATA)\n",
    "result_with_covariates = smf.ols(\n",
    "    formula=\"response_att ~ is_treatment + food_share_15d + age + is_women\",\n",
    "    data=df_abtest,\n",
    ").fit()\n",
    "result_with_covariates.summary().tables[1]\n",
    "```"
   ]
  },
  {
   "cell_type": "code",
   "execution_count": 73,
   "metadata": {},
   "outputs": [
    {
     "data": {
      "text/html": [
       "<table class=\"simpletable\">\n",
       "<tr>\n",
       "         <td></td>           <th>coef</th>     <th>std err</th>      <th>t</th>      <th>P>|t|</th>  <th>[0.025</th>    <th>0.975]</th>  \n",
       "</tr>\n",
       "<tr>\n",
       "  <th>Intercept</th>      <td>    0.0539</td> <td>    0.005</td> <td>   10.555</td> <td> 0.000</td> <td>    0.044</td> <td>    0.064</td>\n",
       "</tr>\n",
       "<tr>\n",
       "  <th>is_treatment</th>   <td>    0.0072</td> <td>    0.003</td> <td>    2.285</td> <td> 0.022</td> <td>    0.001</td> <td>    0.013</td>\n",
       "</tr>\n",
       "<tr>\n",
       "  <th>food_share_15d</th> <td>    0.1713</td> <td>    0.003</td> <td>   51.131</td> <td> 0.000</td> <td>    0.165</td> <td>    0.178</td>\n",
       "</tr>\n",
       "<tr>\n",
       "  <th>age</th>            <td>   -0.0003</td> <td>  9.3e-05</td> <td>   -3.047</td> <td> 0.002</td> <td>   -0.000</td> <td>   -0.000</td>\n",
       "</tr>\n",
       "<tr>\n",
       "  <th>is_women</th>       <td>    0.0033</td> <td>    0.003</td> <td>    1.157</td> <td> 0.247</td> <td>   -0.002</td> <td>    0.009</td>\n",
       "</tr>\n",
       "</table>"
      ],
      "text/latex": [
       "\\begin{center}\n",
       "\\begin{tabular}{lcccccc}\n",
       "\\toprule\n",
       "                          & \\textbf{coef} & \\textbf{std err} & \\textbf{t} & \\textbf{P$> |$t$|$} & \\textbf{[0.025} & \\textbf{0.975]}  \\\\\n",
       "\\midrule\n",
       "\\textbf{Intercept}        &       0.0539  &        0.005     &    10.555  &         0.000        &        0.044    &        0.064     \\\\\n",
       "\\textbf{is\\_treatment}    &       0.0072  &        0.003     &     2.285  &         0.022        &        0.001    &        0.013     \\\\\n",
       "\\textbf{food\\_share\\_15d} &       0.1713  &        0.003     &    51.131  &         0.000        &        0.165    &        0.178     \\\\\n",
       "\\textbf{age}              &      -0.0003  &      9.3e-05     &    -3.047  &         0.002        &       -0.000    &       -0.000     \\\\\n",
       "\\textbf{is\\_women}        &       0.0033  &        0.003     &     1.157  &         0.247        &       -0.002    &        0.009     \\\\\n",
       "\\bottomrule\n",
       "\\end{tabular}\n",
       "\\end{center}"
      ],
      "text/plain": [
       "<class 'statsmodels.iolib.table.SimpleTable'>"
      ]
     },
     "execution_count": 73,
     "metadata": {},
     "output_type": "execute_result"
    }
   ],
   "source": [
    "df_abtest = pl.read_csv(URL_LENTA_DATA)\n",
    "result_with_covariates = smf.ols(\n",
    "    formula = \"response_att ~ is_treatment + food_share_15d + age + is_women\",\n",
    "    data = df_abtest,\n",
    ").fit()\n",
    "result_with_covariates.summary().tables[1]"
   ]
  },
  {
   "cell_type": "code",
   "execution_count": 75,
   "metadata": {},
   "outputs": [
    {
     "data": {
      "text/html": [
       "<div><style>\n",
       ".dataframe > thead > tr,\n",
       ".dataframe > tbody > tr {\n",
       "  text-align: right;\n",
       "  white-space: pre-wrap;\n",
       "}\n",
       "</style>\n",
       "<small>shape: (50_000, 5)</small><table border=\"1\" class=\"dataframe\"><thead><tr><th>is_treatment</th><th>response_att</th><th>food_share_15d</th><th>age</th><th>is_women</th></tr><tr><td>i64</td><td>i64</td><td>f64</td><td>f64</td><td>i64</td></tr></thead><tbody><tr><td>1</td><td>0</td><td>0.0</td><td>33.0</td><td>1</td></tr><tr><td>0</td><td>0</td><td>0.0</td><td>63.0</td><td>1</td></tr><tr><td>1</td><td>0</td><td>0.0</td><td>51.0</td><td>1</td></tr><tr><td>0</td><td>0</td><td>0.0</td><td>38.0</td><td>1</td></tr><tr><td>1</td><td>0</td><td>0.5105</td><td>20.0</td><td>1</td></tr><tr><td>&hellip;</td><td>&hellip;</td><td>&hellip;</td><td>&hellip;</td><td>&hellip;</td></tr><tr><td>1</td><td>0</td><td>0.0</td><td>60.0</td><td>1</td></tr><tr><td>0</td><td>0</td><td>0.0</td><td>26.0</td><td>0</td></tr><tr><td>1</td><td>0</td><td>0.8461</td><td>28.0</td><td>1</td></tr><tr><td>1</td><td>0</td><td>0.0</td><td>19.0</td><td>1</td></tr><tr><td>1</td><td>0</td><td>0.8453</td><td>69.0</td><td>0</td></tr></tbody></table></div>"
      ],
      "text/plain": [
       "shape: (50_000, 5)\n",
       "┌──────────────┬──────────────┬────────────────┬──────┬──────────┐\n",
       "│ is_treatment ┆ response_att ┆ food_share_15d ┆ age  ┆ is_women │\n",
       "│ ---          ┆ ---          ┆ ---            ┆ ---  ┆ ---      │\n",
       "│ i64          ┆ i64          ┆ f64            ┆ f64  ┆ i64      │\n",
       "╞══════════════╪══════════════╪════════════════╪══════╪══════════╡\n",
       "│ 1            ┆ 0            ┆ 0.0            ┆ 33.0 ┆ 1        │\n",
       "│ 0            ┆ 0            ┆ 0.0            ┆ 63.0 ┆ 1        │\n",
       "│ 1            ┆ 0            ┆ 0.0            ┆ 51.0 ┆ 1        │\n",
       "│ 0            ┆ 0            ┆ 0.0            ┆ 38.0 ┆ 1        │\n",
       "│ 1            ┆ 0            ┆ 0.5105         ┆ 20.0 ┆ 1        │\n",
       "│ …            ┆ …            ┆ …              ┆ …    ┆ …        │\n",
       "│ 1            ┆ 0            ┆ 0.0            ┆ 60.0 ┆ 1        │\n",
       "│ 0            ┆ 0            ┆ 0.0            ┆ 26.0 ┆ 0        │\n",
       "│ 1            ┆ 0            ┆ 0.8461         ┆ 28.0 ┆ 1        │\n",
       "│ 1            ┆ 0            ┆ 0.0            ┆ 19.0 ┆ 1        │\n",
       "│ 1            ┆ 0            ┆ 0.8453         ┆ 69.0 ┆ 0        │\n",
       "└──────────────┴──────────────┴────────────────┴──────┴──────────┘"
      ]
     },
     "execution_count": 75,
     "metadata": {},
     "output_type": "execute_result"
    }
   ],
   "source": [
    "df_abtest"
   ]
  },
  {
   "cell_type": "markdown",
   "metadata": {},
   "source": [
    "- A/Bテストの結果再掲"
   ]
  },
  {
   "cell_type": "code",
   "execution_count": 76,
   "metadata": {},
   "outputs": [
    {
     "data": {
      "text/html": [
       "<table class=\"simpletable\">\n",
       "<tr>\n",
       "        <td></td>          <th>coef</th>     <th>std err</th>      <th>t</th>      <th>P>|t|</th>  <th>[0.025</th>    <th>0.975]</th>  \n",
       "</tr>\n",
       "<tr>\n",
       "  <th>Intercept</th>    <td>    0.1024</td> <td>    0.003</td> <td>   36.412</td> <td> 0.000</td> <td>    0.097</td> <td>    0.108</td>\n",
       "</tr>\n",
       "<tr>\n",
       "  <th>is_treatment</th> <td>    0.0091</td> <td>    0.003</td> <td>    2.809</td> <td> 0.005</td> <td>    0.003</td> <td>    0.015</td>\n",
       "</tr>\n",
       "</table>"
      ],
      "text/latex": [
       "\\begin{center}\n",
       "\\begin{tabular}{lcccccc}\n",
       "\\toprule\n",
       "                       & \\textbf{coef} & \\textbf{std err} & \\textbf{t} & \\textbf{P$> |$t$|$} & \\textbf{[0.025} & \\textbf{0.975]}  \\\\\n",
       "\\midrule\n",
       "\\textbf{Intercept}     &       0.1024  &        0.003     &    36.412  &         0.000        &        0.097    &        0.108     \\\\\n",
       "\\textbf{is\\_treatment} &       0.0091  &        0.003     &     2.809  &         0.005        &        0.003    &        0.015     \\\\\n",
       "\\bottomrule\n",
       "\\end{tabular}\n",
       "\\end{center}"
      ],
      "text/plain": [
       "<class 'statsmodels.iolib.table.SimpleTable'>"
      ]
     },
     "execution_count": 76,
     "metadata": {},
     "output_type": "execute_result"
    }
   ],
   "source": [
    "result_plain = smf.ols(\n",
    "    formula = \"response_att ~ is_treatment \", data = df_abtest\n",
    ").fit()\n",
    "result_plain.summary().tables[1]"
   ]
  },
  {
   "cell_type": "markdown",
   "metadata": {},
   "source": [
    "# 施策効果の異質性 ~ どこで効果があるのか知る"
   ]
  },
  {
   "cell_type": "markdown",
   "metadata": {},
   "source": [
    "#### プログラム3.18 サブサンプル分割による異質性の分析\n",
    "\n",
    "``` python\n",
    "from statsmodels.iolib.summary2 import summary_col\n",
    "\n",
    "# サブサンプル分割\n",
    "df_abtest = pd.read_csv(URL_LENTA_DATA)\n",
    "df_men = df_abtest.loc[df_abtest[\"is_women\"] == 0, :]\n",
    "df_women = df_abtest.loc[df_abtest[\"is_women\"] == 1, :]\n",
    "# 推定（is_women = 0）\n",
    "result_men = smf.ols(\n",
    "    formula=\"response_att ~ is_treatment\", data=df_men\n",
    ").fit()\n",
    "# 推定（is_women = 1）\n",
    "result_women = smf.ols(\n",
    "    formula=\"response_att ~ is_treatment\", data=df_women\n",
    ").fit()\n",
    "# 推定した結果をまとめて表示\n",
    "summary_col(\n",
    "    [result_men, result_women],\n",
    "    model_names=(\"only men model\", \"only women model\"),\n",
    "    stars=False,\n",
    ")\n",
    "```"
   ]
  },
  {
   "cell_type": "code",
   "execution_count": 77,
   "metadata": {},
   "outputs": [
    {
     "data": {
      "text/html": [
       "<table class=\"simpletable\">\n",
       "<tr>\n",
       "         <td></td>        <th>only men model</th> <th>only women model</th>\n",
       "</tr>\n",
       "<tr>\n",
       "  <th>Intercept</th>          <td>0.1010</td>          <td>0.1032</td>     \n",
       "</tr>\n",
       "<tr>\n",
       "  <th></th>                  <td>(0.0046)</td>        <td>(0.0036)</td>    \n",
       "</tr>\n",
       "<tr>\n",
       "  <th>is_treatment</th>       <td>0.0135</td>          <td>0.0065</td>     \n",
       "</tr>\n",
       "<tr>\n",
       "  <th></th>                  <td>(0.0053)</td>        <td>(0.0041)</td>    \n",
       "</tr>\n",
       "<tr>\n",
       "  <th>R-squared</th>          <td>0.0003</td>          <td>0.0001</td>     \n",
       "</tr>\n",
       "<tr>\n",
       "  <th>R-squared Adj.</th>     <td>0.0003</td>          <td>0.0000</td>     \n",
       "</tr>\n",
       "</table><br/>\n",
       "Standard errors in parentheses."
      ],
      "text/latex": [
       "\\begin{table}\n",
       "\\caption{}\n",
       "\\label{}\n",
       "\\begin{center}\n",
       "\\begin{tabular}{lll}\n",
       "\\hline\n",
       "               & only men model & only women model  \\\\\n",
       "\\hline\n",
       "Intercept      & 0.1010         & 0.1032            \\\\\n",
       "               & (0.0046)       & (0.0036)          \\\\\n",
       "is\\_treatment  & 0.0135         & 0.0065            \\\\\n",
       "               & (0.0053)       & (0.0041)          \\\\\n",
       "R-squared      & 0.0003         & 0.0001            \\\\\n",
       "R-squared Adj. & 0.0003         & 0.0000            \\\\\n",
       "\\hline\n",
       "\\end{tabular}\n",
       "\\end{center}\n",
       "\\end{table}\n",
       "\\bigskip\n",
       "Standard errors in parentheses."
      ],
      "text/plain": [
       "<class 'statsmodels.iolib.summary2.Summary'>\n",
       "\"\"\"\n",
       "\n",
       "==============================================\n",
       "               only men model only women model\n",
       "----------------------------------------------\n",
       "Intercept      0.1010         0.1032          \n",
       "               (0.0046)       (0.0036)        \n",
       "is_treatment   0.0135         0.0065          \n",
       "               (0.0053)       (0.0041)        \n",
       "R-squared      0.0003         0.0001          \n",
       "R-squared Adj. 0.0003         0.0000          \n",
       "==============================================\n",
       "Standard errors in parentheses.\n",
       "\"\"\""
      ]
     },
     "execution_count": 77,
     "metadata": {},
     "output_type": "execute_result"
    }
   ],
   "source": [
    "# サブサンプル分割\n",
    "df_abtest = pl.read_csv(URL_LENTA_DATA)\n",
    "df_men = df_abtest.filter(pl.col(\"is_women\") == 0)\n",
    "df_women = df_abtest.filter(pl.col(\"is_women\") == 1)\n",
    "# 推定（is_women = 0）\n",
    "result_men = smf.ols(\n",
    "    formula = \"response_att ~ is_treatment\", data = df_men\n",
    ").fit()\n",
    "# 推定（is_women = 1）\n",
    "result_women = smf.ols(\n",
    "    formula=\"response_att ~ is_treatment\", data = df_women\n",
    ").fit()\n",
    "# 推定した結果をまとめて表示\n",
    "summary_col(\n",
    "    [result_men, result_women],\n",
    "    model_names = (\"only men model\", \"only women model\"),\n",
    "    stars = False,\n",
    ")"
   ]
  },
  {
   "cell_type": "code",
   "execution_count": 78,
   "metadata": {},
   "outputs": [
    {
     "data": {
      "text/html": [
       "<table class=\"simpletable\">\n",
       "<tr>\n",
       "        <td></td>          <th>coef</th>     <th>std err</th>      <th>t</th>      <th>P>|t|</th>  <th>[0.025</th>    <th>0.975]</th>  \n",
       "</tr>\n",
       "<tr>\n",
       "  <th>Intercept</th>    <td>    0.1010</td> <td>    0.005</td> <td>   22.021</td> <td> 0.000</td> <td>    0.092</td> <td>    0.110</td>\n",
       "</tr>\n",
       "<tr>\n",
       "  <th>is_treatment</th> <td>    0.0135</td> <td>    0.005</td> <td>    2.543</td> <td> 0.011</td> <td>    0.003</td> <td>    0.024</td>\n",
       "</tr>\n",
       "</table>"
      ],
      "text/latex": [
       "\\begin{center}\n",
       "\\begin{tabular}{lcccccc}\n",
       "\\toprule\n",
       "                       & \\textbf{coef} & \\textbf{std err} & \\textbf{t} & \\textbf{P$> |$t$|$} & \\textbf{[0.025} & \\textbf{0.975]}  \\\\\n",
       "\\midrule\n",
       "\\textbf{Intercept}     &       0.1010  &        0.005     &    22.021  &         0.000        &        0.092    &        0.110     \\\\\n",
       "\\textbf{is\\_treatment} &       0.0135  &        0.005     &     2.543  &         0.011        &        0.003    &        0.024     \\\\\n",
       "\\bottomrule\n",
       "\\end{tabular}\n",
       "\\end{center}"
      ],
      "text/plain": [
       "<class 'statsmodels.iolib.table.SimpleTable'>"
      ]
     },
     "execution_count": 78,
     "metadata": {},
     "output_type": "execute_result"
    }
   ],
   "source": [
    "result_men.summary().tables[1]"
   ]
  },
  {
   "cell_type": "code",
   "execution_count": 79,
   "metadata": {},
   "outputs": [
    {
     "data": {
      "text/html": [
       "<table class=\"simpletable\">\n",
       "<tr>\n",
       "        <td></td>          <th>coef</th>     <th>std err</th>      <th>t</th>      <th>P>|t|</th>  <th>[0.025</th>    <th>0.975]</th>  \n",
       "</tr>\n",
       "<tr>\n",
       "  <th>Intercept</th>    <td>    0.1032</td> <td>    0.004</td> <td>   29.006</td> <td> 0.000</td> <td>    0.096</td> <td>    0.110</td>\n",
       "</tr>\n",
       "<tr>\n",
       "  <th>is_treatment</th> <td>    0.0065</td> <td>    0.004</td> <td>    1.583</td> <td> 0.113</td> <td>   -0.002</td> <td>    0.014</td>\n",
       "</tr>\n",
       "</table>"
      ],
      "text/latex": [
       "\\begin{center}\n",
       "\\begin{tabular}{lcccccc}\n",
       "\\toprule\n",
       "                       & \\textbf{coef} & \\textbf{std err} & \\textbf{t} & \\textbf{P$> |$t$|$} & \\textbf{[0.025} & \\textbf{0.975]}  \\\\\n",
       "\\midrule\n",
       "\\textbf{Intercept}     &       0.1032  &        0.004     &    29.006  &         0.000        &        0.096    &        0.110     \\\\\n",
       "\\textbf{is\\_treatment} &       0.0065  &        0.004     &     1.583  &         0.113        &       -0.002    &        0.014     \\\\\n",
       "\\bottomrule\n",
       "\\end{tabular}\n",
       "\\end{center}"
      ],
      "text/plain": [
       "<class 'statsmodels.iolib.table.SimpleTable'>"
      ]
     },
     "execution_count": 79,
     "metadata": {},
     "output_type": "execute_result"
    }
   ],
   "source": [
    "result_women.summary().tables[1]"
   ]
  },
  {
   "cell_type": "code",
   "execution_count": 80,
   "metadata": {},
   "outputs": [
    {
     "data": {
      "text/html": [
       "<div><style>\n",
       ".dataframe > thead > tr,\n",
       ".dataframe > tbody > tr {\n",
       "  text-align: right;\n",
       "  white-space: pre-wrap;\n",
       "}\n",
       "</style>\n",
       "<small>shape: (50_000, 1)</small><table border=\"1\" class=\"dataframe\"><thead><tr><th>is_women</th></tr><tr><td>i64</td></tr></thead><tbody><tr><td>1</td></tr><tr><td>1</td></tr><tr><td>1</td></tr><tr><td>1</td></tr><tr><td>1</td></tr><tr><td>&hellip;</td></tr><tr><td>1</td></tr><tr><td>0</td></tr><tr><td>1</td></tr><tr><td>1</td></tr><tr><td>0</td></tr></tbody></table></div>"
      ],
      "text/plain": [
       "shape: (50_000, 1)\n",
       "┌──────────┐\n",
       "│ is_women │\n",
       "│ ---      │\n",
       "│ i64      │\n",
       "╞══════════╡\n",
       "│ 1        │\n",
       "│ 1        │\n",
       "│ 1        │\n",
       "│ 1        │\n",
       "│ 1        │\n",
       "│ …        │\n",
       "│ 1        │\n",
       "│ 0        │\n",
       "│ 1        │\n",
       "│ 1        │\n",
       "│ 0        │\n",
       "└──────────┘"
      ]
     },
     "execution_count": 80,
     "metadata": {},
     "output_type": "execute_result"
    }
   ],
   "source": [
    "# ダミー変数であるis_womenカラムの中身を確認する\n",
    "df_abtest[[\"is_women\"]]"
   ]
  },
  {
   "cell_type": "markdown",
   "metadata": {},
   "source": [
    "#### プログラム3.19 交差項による異質性の分析\n",
    "本文では次のように記載しています。\n",
    "``` python\n",
    "df_abtest = pd.read_csv(URL_LENTA_DATA)\n",
    "# 推定\n",
    "result_hetero = smf.ols(\n",
    "    formula=\"response_att ~ is_treatment + is_women + is_treatment * is_women\",\n",
    "    data=df_abtest,\n",
    ").fit()\n",
    "# 推定結果の表示\n",
    "result_hetero.summary().tables[1]\n",
    "```"
   ]
  },
  {
   "cell_type": "code",
   "execution_count": 81,
   "metadata": {},
   "outputs": [
    {
     "data": {
      "text/html": [
       "<table class=\"simpletable\">\n",
       "<tr>\n",
       "            <td></td>               <th>coef</th>     <th>std err</th>      <th>t</th>      <th>P>|t|</th>  <th>[0.025</th>    <th>0.975]</th>  \n",
       "</tr>\n",
       "<tr>\n",
       "  <th>Intercept</th>             <td>    0.1010</td> <td>    0.005</td> <td>   22.184</td> <td> 0.000</td> <td>    0.092</td> <td>    0.110</td>\n",
       "</tr>\n",
       "<tr>\n",
       "  <th>is_treatment</th>          <td>    0.0135</td> <td>    0.005</td> <td>    2.562</td> <td> 0.010</td> <td>    0.003</td> <td>    0.024</td>\n",
       "</tr>\n",
       "<tr>\n",
       "  <th>is_women</th>              <td>    0.0022</td> <td>    0.006</td> <td>    0.380</td> <td> 0.704</td> <td>   -0.009</td> <td>    0.014</td>\n",
       "</tr>\n",
       "<tr>\n",
       "  <th>is_treatment:is_women</th> <td>   -0.0070</td> <td>    0.007</td> <td>   -1.050</td> <td> 0.294</td> <td>   -0.020</td> <td>    0.006</td>\n",
       "</tr>\n",
       "</table>"
      ],
      "text/latex": [
       "\\begin{center}\n",
       "\\begin{tabular}{lcccccc}\n",
       "\\toprule\n",
       "                                 & \\textbf{coef} & \\textbf{std err} & \\textbf{t} & \\textbf{P$> |$t$|$} & \\textbf{[0.025} & \\textbf{0.975]}  \\\\\n",
       "\\midrule\n",
       "\\textbf{Intercept}               &       0.1010  &        0.005     &    22.184  &         0.000        &        0.092    &        0.110     \\\\\n",
       "\\textbf{is\\_treatment}           &       0.0135  &        0.005     &     2.562  &         0.010        &        0.003    &        0.024     \\\\\n",
       "\\textbf{is\\_women}               &       0.0022  &        0.006     &     0.380  &         0.704        &       -0.009    &        0.014     \\\\\n",
       "\\textbf{is\\_treatment:is\\_women} &      -0.0070  &        0.007     &    -1.050  &         0.294        &       -0.020    &        0.006     \\\\\n",
       "\\bottomrule\n",
       "\\end{tabular}\n",
       "\\end{center}"
      ],
      "text/plain": [
       "<class 'statsmodels.iolib.table.SimpleTable'>"
      ]
     },
     "execution_count": 81,
     "metadata": {},
     "output_type": "execute_result"
    }
   ],
   "source": [
    "df_abtest = pl.read_csv(URL_LENTA_DATA)\n",
    "# 推定\n",
    "result_hetero = smf.ols(\n",
    "    formula = \"response_att ~ is_treatment + is_women + is_treatment * is_women\",\n",
    "    data = df_abtest,\n",
    ").fit()\n",
    "# 推定結果の表示\n",
    "result_hetero.summary().tables[1]"
   ]
  },
  {
   "cell_type": "code",
   "execution_count": 82,
   "metadata": {},
   "outputs": [
    {
     "name": "stdout",
     "output_type": "stream",
     "text": [
      "Last updated: Thu Jun 13 2024\n",
      "\n",
      "Python implementation: CPython\n",
      "Python version       : 3.11.9\n",
      "IPython version      : 8.22.2\n",
      "\n",
      "scipy      : 1.13.0\n",
      "numpy      : 1.26.4\n",
      "polars     : 0.20.31\n",
      "seaborn    : 0.13.2\n",
      "matplotlib : 3.8.4\n",
      "statsmodels: 0.14.1\n",
      "\n",
      "Watermark: 2.4.3\n",
      "\n"
     ]
    }
   ],
   "source": [
    "%load_ext watermark\n",
    "%watermark -n -u -v -iv -w"
   ]
  }
 ],
 "metadata": {
  "kernelspec": {
   "display_name": "pymc_env",
   "language": "python",
   "name": "python3"
  },
  "language_info": {
   "codemirror_mode": {
    "name": "ipython",
    "version": 3
   },
   "file_extension": ".py",
   "mimetype": "text/x-python",
   "name": "python",
   "nbconvert_exporter": "python",
   "pygments_lexer": "ipython3",
   "version": "3.11.9"
  }
 },
 "nbformat": 4,
 "nbformat_minor": 2
}
