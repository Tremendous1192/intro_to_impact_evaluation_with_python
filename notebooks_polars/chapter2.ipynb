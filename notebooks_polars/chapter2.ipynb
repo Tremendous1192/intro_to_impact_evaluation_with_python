{
 "cells": [
  {
   "cell_type": "markdown",
   "metadata": {},
   "source": [
    "# 前準備"
   ]
  },
  {
   "cell_type": "code",
   "execution_count": 1,
   "metadata": {},
   "outputs": [],
   "source": [
    "# 用いるライブラリのインポート\n",
    "import hashlib\n",
    "\n",
    "import numpy as np\n",
    "import polars as pl\n",
    "import polars.selectors as cs\n",
    "pl.Config(fmt_str_lengths = 50, tbl_cols = 100, tbl_rows = 100)\n",
    "import statsmodels.formula.api as smf\n",
    "\n",
    "URL_CH2_LOGDATA = \"https://raw.githubusercontent.com/HirotakeIto/intro_to_impact_evaluation_with_python/main/data/ch2_logdata.csv\"\n",
    "URL_LENTA_DATA = \"https://raw.githubusercontent.com/HirotakeIto/intro_to_impact_evaluation_with_python/main/data/lenta_dataset.csv\""
   ]
  },
  {
   "cell_type": "markdown",
   "metadata": {},
   "source": [
    "# A/Bテストを用いてクリーンに効果検証を行う\n",
    "## Prelude"
   ]
  },
  {
   "cell_type": "markdown",
   "metadata": {},
   "source": [
    "#### プログラム2.1 太郎くんの分析の再現\n",
    "\n",
    "書籍上では次のようなコードになっています。\n",
    "``` python\n",
    "import pandas as pd\n",
    "\n",
    "df = pd.read_csv(URL_CH2_LOGDATA)\n",
    "df_result = df.groupby(\"is_treatment\")[\"response_att\"].mean() * 100\n",
    "```"
   ]
  },
  {
   "cell_type": "code",
   "execution_count": 2,
   "metadata": {},
   "outputs": [],
   "source": [
    "df = pl.read_csv(URL_CH2_LOGDATA)\n",
    "df_result = df.group_by(\"is_treatment\").agg( pl.mean(\"response_att\") * 100 )"
   ]
  },
  {
   "cell_type": "code",
   "execution_count": 3,
   "metadata": {},
   "outputs": [
    {
     "data": {
      "text/html": [
       "<div><style>\n",
       ".dataframe > thead > tr,\n",
       ".dataframe > tbody > tr {\n",
       "  text-align: right;\n",
       "  white-space: pre-wrap;\n",
       "}\n",
       "</style>\n",
       "<small>shape: (2, 2)</small><table border=\"1\" class=\"dataframe\"><thead><tr><th>is_treatment</th><th>response_att</th></tr><tr><td>i64</td><td>f64</td></tr></thead><tbody><tr><td>0</td><td>10.236412</td></tr><tr><td>1</td><td>5.658671</td></tr></tbody></table></div>"
      ],
      "text/plain": [
       "shape: (2, 2)\n",
       "┌──────────────┬──────────────┐\n",
       "│ is_treatment ┆ response_att │\n",
       "│ ---          ┆ ---          │\n",
       "│ i64          ┆ f64          │\n",
       "╞══════════════╪══════════════╡\n",
       "│ 0            ┆ 10.236412    │\n",
       "│ 1            ┆ 5.658671     │\n",
       "└──────────────┴──────────────┘"
      ]
     },
     "execution_count": 3,
     "metadata": {},
     "output_type": "execute_result"
    }
   ],
   "source": [
    "df_result"
   ]
  },
  {
   "cell_type": "markdown",
   "metadata": {},
   "source": [
    "図表のプロット"
   ]
  },
  {
   "cell_type": "code",
   "execution_count": 5,
   "metadata": {},
   "outputs": [
    {
     "data": {
      "text/plain": [
       "<Axes: ylabel='is_treatment'>"
      ]
     },
     "execution_count": 5,
     "metadata": {},
     "output_type": "execute_result"
    },
    {
     "data": {
      "image/png": "[encoded data removed]",
      "text/plain": [
       "<Figure size 640x480 with 1 Axes>"
      ]
     },
     "metadata": {},
     "output_type": "display_data"
    }
   ],
   "source": [
    "df_result.to_pandas().set_index(\"is_treatment\").plot.barh()"
   ]
  },
  {
   "cell_type": "markdown",
   "metadata": {},
   "source": [
    "# A/Bテストの基本的な発想"
   ]
  },
  {
   "cell_type": "code",
   "execution_count": 7,
   "metadata": {},
   "outputs": [
    {
     "data": {
      "text/plain": [
       "<Axes: ylabel='is_treatment'>"
      ]
     },
     "execution_count": 7,
     "metadata": {},
     "output_type": "execute_result"
    },
    {
     "data": {
      "image/png": "[encoded data removed]",
      "text/plain": [
       "<Figure size 640x480 with 1 Axes>"
      ]
     },
     "metadata": {},
     "output_type": "display_data"
    }
   ],
   "source": [
    "df_result_food_share = (\n",
    "    pl.read_csv(URL_CH2_LOGDATA)\n",
    "    .group_by(\"is_treatment\")\n",
    "    .agg(\n",
    "        pl.mean(\"food_share_15d\") * 100\n",
    "    )\n",
    ")\n",
    "df_result_food_share.to_pandas().set_index(\"is_treatment\").plot.barh()"
   ]
  },
  {
   "cell_type": "code",
   "execution_count": 8,
   "metadata": {},
   "outputs": [
    {
     "data": {
      "text/html": [
       "<div><style>\n",
       ".dataframe > thead > tr,\n",
       ".dataframe > tbody > tr {\n",
       "  text-align: right;\n",
       "  white-space: pre-wrap;\n",
       "}\n",
       "</style>\n",
       "<small>shape: (2, 2)</small><table border=\"1\" class=\"dataframe\"><thead><tr><th>is_treatment</th><th>food_share_15d</th></tr><tr><td>i64</td><td>f64</td></tr></thead><tbody><tr><td>0</td><td>34.558005</td></tr><tr><td>1</td><td>34.88718</td></tr></tbody></table></div>"
      ],
      "text/plain": [
       "shape: (2, 2)\n",
       "┌──────────────┬────────────────┐\n",
       "│ is_treatment ┆ food_share_15d │\n",
       "│ ---          ┆ ---            │\n",
       "│ i64          ┆ f64            │\n",
       "╞══════════════╪════════════════╡\n",
       "│ 0            ┆ 34.558005      │\n",
       "│ 1            ┆ 34.88718       │\n",
       "└──────────────┴────────────────┘"
      ]
     },
     "execution_count": 8,
     "metadata": {},
     "output_type": "execute_result"
    }
   ],
   "source": [
    "(\n",
    "    pl.read_csv(URL_LENTA_DATA)\n",
    "    .group_by(\"is_treatment\")\n",
    "    .agg(\n",
    "        pl.mean(\"food_share_15d\") * 100\n",
    "    )\n",
    ")"
   ]
  },
  {
   "cell_type": "markdown",
   "metadata": {},
   "source": [
    "# A/Bテストの設計と分析\n",
    "## A/Bテストの設計\n",
    "### 割当"
   ]
  },
  {
   "cell_type": "markdown",
   "metadata": {},
   "source": [
    "#### プログラム2.2 NumPy パッケージのchoice を使ったランダム割当\n",
    "書籍上では次のようなコードになっています。\n",
    "\n",
    "``` python\n",
    "import numpy as np\n",
    "\n",
    "rng = np.random.default_rng()\n",
    "is_treatment = rng.choice([0, 1], p=[0.3, 0.7])\n",
    "```"
   ]
  },
  {
   "cell_type": "code",
   "execution_count": 9,
   "metadata": {},
   "outputs": [],
   "source": [
    "# 乱数を生成する前にシードを設定することで、コードを修正しても再現性を保つことができる\n",
    "rng = np.random.default_rng(seed = 0)\n",
    "is_treatment = rng.choice([0, 1], p = [0.3, 0.7])"
   ]
  },
  {
   "cell_type": "code",
   "execution_count": 10,
   "metadata": {},
   "outputs": [
    {
     "data": {
      "text/plain": [
       "1"
      ]
     },
     "execution_count": 10,
     "metadata": {},
     "output_type": "execute_result"
    }
   ],
   "source": [
    "is_treatment"
   ]
  },
  {
   "cell_type": "markdown",
   "metadata": {},
   "source": [
    "#### プログラム2.3 ハッシュ化を通じたランダム割当\n",
    "\n",
    "書籍上では次のようなコードになっています。\n",
    "\n",
    "``` python\n",
    "import hashlib\n",
    "\n",
    "uid = \"hogehoge\"\n",
    "hash_value = int(\n",
    "    hashlib.sha256(f\"salt0_{uid}\".encode()).hexdigest(), 16\n",
    ")\n",
    "if (hash_value % 10) < 3:\n",
    "    is_treatment = 1\n",
    "else:\n",
    "    is_treatment = 0\n",
    "```"
   ]
  },
  {
   "cell_type": "code",
   "execution_count": 11,
   "metadata": {},
   "outputs": [],
   "source": [
    "uid = \"hogehoge\"\n",
    "hash_value = int(\n",
    "    hashlib.sha256(f\"salt0_{uid}\".encode()).hexdigest(), 16\n",
    ")\n",
    "if (hash_value % 10) < 3:\n",
    "    is_treatment = 1\n",
    "else:\n",
    "    is_treatment = 0"
   ]
  },
  {
   "cell_type": "code",
   "execution_count": 12,
   "metadata": {},
   "outputs": [
    {
     "data": {
      "text/plain": [
       "1"
      ]
     },
     "execution_count": 12,
     "metadata": {},
     "output_type": "execute_result"
    }
   ],
   "source": [
    "is_treatment"
   ]
  },
  {
   "cell_type": "markdown",
   "metadata": {},
   "source": [
    "# A/Bテスト"
   ]
  },
  {
   "cell_type": "markdown",
   "metadata": {},
   "source": [
    "太郎くんのストーリーにある図表の再現"
   ]
  },
  {
   "cell_type": "code",
   "execution_count": 13,
   "metadata": {},
   "outputs": [
    {
     "name": "stdout",
     "output_type": "stream",
     "text": [
      "shape: (2, 2)\n",
      "┌──────────────┬──────────────┐\n",
      "│ is_treatment ┆ response_att │\n",
      "│ ---          ┆ ---          │\n",
      "│ i64          ┆ f64          │\n",
      "╞══════════════╪══════════════╡\n",
      "│ 0            ┆ 10.236412    │\n",
      "│ 1            ┆ 11.145897    │\n",
      "└──────────────┴──────────────┘\n"
     ]
    },
    {
     "data": {
      "text/plain": [
       "<Axes: ylabel='is_treatment'>"
      ]
     },
     "execution_count": 13,
     "metadata": {},
     "output_type": "execute_result"
    },
    {
     "data": {
      "image/png": "[encoded data removed]",
      "text/plain": [
       "<Figure size 640x480 with 1 Axes>"
      ]
     },
     "metadata": {},
     "output_type": "display_data"
    }
   ],
   "source": [
    "df_result_response = (\n",
    "    pl.read_csv(URL_LENTA_DATA)\n",
    "    .group_by(\"is_treatment\")\n",
    "    .agg(\n",
    "        pl.mean(\"response_att\") * 100\n",
    "    )\n",
    ")\n",
    "print(df_result_response)\n",
    "df_result_response.to_pandas().set_index(\"is_treatment\").plot.barh()"
   ]
  },
  {
   "cell_type": "markdown",
   "metadata": {},
   "source": [
    "# pythonによるプッシュ通知施策効果の検証"
   ]
  },
  {
   "cell_type": "markdown",
   "metadata": {},
   "source": [
    "#### プログラム2.4 A/B テストによるプッシュ通知施策の効果検証\n",
    "書籍上では次のようなコードになっています。\n",
    "``` python\n",
    "import statsmodels.formula.api as smf\n",
    "\n",
    "# データの取得\n",
    "df = pd.read_csv(URL_LENTA_DATA)\n",
    "# 共変量がバランスしているかを調べる\n",
    "df_balance_test = df.groupby(\"is_treatment\")[\n",
    "    [\"food_share_15d\", \"age\", \"is_women\"]\n",
    "].mean()\n",
    "# 回帰分析\n",
    "result = smf.ols(formula=\"response_att ~ is_treatment\", data=df).fit()\n",
    "result.summary()\n",
    "```"
   ]
  },
  {
   "cell_type": "markdown",
   "metadata": {},
   "source": [
    "前準備：データの取得と確認"
   ]
  },
  {
   "cell_type": "code",
   "execution_count": 14,
   "metadata": {},
   "outputs": [
    {
     "data": {
      "text/html": [
       "<table class=\"simpletable\">\n",
       "<caption>OLS Regression Results</caption>\n",
       "<tr>\n",
       "  <th>Dep. Variable:</th>      <td>response_att</td>   <th>  R-squared:         </th> <td>   0.000</td> \n",
       "</tr>\n",
       "<tr>\n",
       "  <th>Model:</th>                   <td>OLS</td>       <th>  Adj. R-squared:    </th> <td>   0.000</td> \n",
       "</tr>\n",
       "<tr>\n",
       "  <th>Method:</th>             <td>Least Squares</td>  <th>  F-statistic:       </th> <td>   7.890</td> \n",
       "</tr>\n",
       "<tr>\n",
       "  <th>Date:</th>             <td>Thu, 13 Jun 2024</td> <th>  Prob (F-statistic):</th>  <td>0.00497</td> \n",
       "</tr>\n",
       "<tr>\n",
       "  <th>Time:</th>                 <td>06:47:29</td>     <th>  Log-Likelihood:    </th> <td> -12692.</td> \n",
       "</tr>\n",
       "<tr>\n",
       "  <th>No. Observations:</th>      <td> 50000</td>      <th>  AIC:               </th> <td>2.539e+04</td>\n",
       "</tr>\n",
       "<tr>\n",
       "  <th>Df Residuals:</th>          <td> 49998</td>      <th>  BIC:               </th> <td>2.541e+04</td>\n",
       "</tr>\n",
       "<tr>\n",
       "  <th>Df Model:</th>              <td>     1</td>      <th>                     </th>     <td> </td>    \n",
       "</tr>\n",
       "<tr>\n",
       "  <th>Covariance Type:</th>      <td>nonrobust</td>    <th>                     </th>     <td> </td>    \n",
       "</tr>\n",
       "</table>\n",
       "<table class=\"simpletable\">\n",
       "<tr>\n",
       "        <td></td>          <th>coef</th>     <th>std err</th>      <th>t</th>      <th>P>|t|</th>  <th>[0.025</th>    <th>0.975]</th>  \n",
       "</tr>\n",
       "<tr>\n",
       "  <th>Intercept</th>    <td>    0.1024</td> <td>    0.003</td> <td>   36.412</td> <td> 0.000</td> <td>    0.097</td> <td>    0.108</td>\n",
       "</tr>\n",
       "<tr>\n",
       "  <th>is_treatment</th> <td>    0.0091</td> <td>    0.003</td> <td>    2.809</td> <td> 0.005</td> <td>    0.003</td> <td>    0.015</td>\n",
       "</tr>\n",
       "</table>\n",
       "<table class=\"simpletable\">\n",
       "<tr>\n",
       "  <th>Omnibus:</th>       <td>23649.035</td> <th>  Durbin-Watson:     </th> <td>   1.998</td> \n",
       "</tr>\n",
       "<tr>\n",
       "  <th>Prob(Omnibus):</th>  <td> 0.000</td>   <th>  Jarque-Bera (JB):  </th> <td>90406.287</td>\n",
       "</tr>\n",
       "<tr>\n",
       "  <th>Skew:</th>           <td> 2.505</td>   <th>  Prob(JB):          </th> <td>    0.00</td> \n",
       "</tr>\n",
       "<tr>\n",
       "  <th>Kurtosis:</th>       <td> 7.277</td>   <th>  Cond. No.          </th> <td>    3.81</td> \n",
       "</tr>\n",
       "</table><br/><br/>Notes:<br/>[1] Standard Errors assume that the covariance matrix of the errors is correctly specified."
      ],
      "text/latex": [
       "\\begin{center}\n",
       "\\begin{tabular}{lclc}\n",
       "\\toprule\n",
       "\\textbf{Dep. Variable:}    &  response\\_att   & \\textbf{  R-squared:         } &     0.000   \\\\\n",
       "\\textbf{Model:}            &       OLS        & \\textbf{  Adj. R-squared:    } &     0.000   \\\\\n",
       "\\textbf{Method:}           &  Least Squares   & \\textbf{  F-statistic:       } &     7.890   \\\\\n",
       "\\textbf{Date:}             & Thu, 13 Jun 2024 & \\textbf{  Prob (F-statistic):} &  0.00497    \\\\\n",
       "\\textbf{Time:}             &     06:47:29     & \\textbf{  Log-Likelihood:    } &   -12692.   \\\\\n",
       "\\textbf{No. Observations:} &       50000      & \\textbf{  AIC:               } & 2.539e+04   \\\\\n",
       "\\textbf{Df Residuals:}     &       49998      & \\textbf{  BIC:               } & 2.541e+04   \\\\\n",
       "\\textbf{Df Model:}         &           1      & \\textbf{                     } &             \\\\\n",
       "\\textbf{Covariance Type:}  &    nonrobust     & \\textbf{                     } &             \\\\\n",
       "\\bottomrule\n",
       "\\end{tabular}\n",
       "\\begin{tabular}{lcccccc}\n",
       "                       & \\textbf{coef} & \\textbf{std err} & \\textbf{t} & \\textbf{P$> |$t$|$} & \\textbf{[0.025} & \\textbf{0.975]}  \\\\\n",
       "\\midrule\n",
       "\\textbf{Intercept}     &       0.1024  &        0.003     &    36.412  &         0.000        &        0.097    &        0.108     \\\\\n",
       "\\textbf{is\\_treatment} &       0.0091  &        0.003     &     2.809  &         0.005        &        0.003    &        0.015     \\\\\n",
       "\\bottomrule\n",
       "\\end{tabular}\n",
       "\\begin{tabular}{lclc}\n",
       "\\textbf{Omnibus:}       & 23649.035 & \\textbf{  Durbin-Watson:     } &     1.998  \\\\\n",
       "\\textbf{Prob(Omnibus):} &    0.000  & \\textbf{  Jarque-Bera (JB):  } & 90406.287  \\\\\n",
       "\\textbf{Skew:}          &    2.505  & \\textbf{  Prob(JB):          } &      0.00  \\\\\n",
       "\\textbf{Kurtosis:}      &    7.277  & \\textbf{  Cond. No.          } &      3.81  \\\\\n",
       "\\bottomrule\n",
       "\\end{tabular}\n",
       "%\\caption{OLS Regression Results}\n",
       "\\end{center}\n",
       "\n",
       "Notes: \\newline\n",
       " [1] Standard Errors assume that the covariance matrix of the errors is correctly specified."
      ],
      "text/plain": [
       "<class 'statsmodels.iolib.summary.Summary'>\n",
       "\"\"\"\n",
       "                            OLS Regression Results                            \n",
       "==============================================================================\n",
       "Dep. Variable:           response_att   R-squared:                       0.000\n",
       "Model:                            OLS   Adj. R-squared:                  0.000\n",
       "Method:                 Least Squares   F-statistic:                     7.890\n",
       "Date:                Thu, 13 Jun 2024   Prob (F-statistic):            0.00497\n",
       "Time:                        06:47:29   Log-Likelihood:                -12692.\n",
       "No. Observations:               50000   AIC:                         2.539e+04\n",
       "Df Residuals:                   49998   BIC:                         2.541e+04\n",
       "Df Model:                           1                                         \n",
       "Covariance Type:            nonrobust                                         \n",
       "================================================================================\n",
       "                   coef    std err          t      P>|t|      [0.025      0.975]\n",
       "--------------------------------------------------------------------------------\n",
       "Intercept        0.1024      0.003     36.412      0.000       0.097       0.108\n",
       "is_treatment     0.0091      0.003      2.809      0.005       0.003       0.015\n",
       "==============================================================================\n",
       "Omnibus:                    23649.035   Durbin-Watson:                   1.998\n",
       "Prob(Omnibus):                  0.000   Jarque-Bera (JB):            90406.287\n",
       "Skew:                           2.505   Prob(JB):                         0.00\n",
       "Kurtosis:                       7.277   Cond. No.                         3.81\n",
       "==============================================================================\n",
       "\n",
       "Notes:\n",
       "[1] Standard Errors assume that the covariance matrix of the errors is correctly specified.\n",
       "\"\"\""
      ]
     },
     "execution_count": 14,
     "metadata": {},
     "output_type": "execute_result"
    }
   ],
   "source": [
    "# データの取得\n",
    "df = pl.read_csv(URL_LENTA_DATA)\n",
    "# 共変量がバランスしているかを調べる\n",
    "df_balance_test = (\n",
    "    df.group_by(\"is_treatment\")\n",
    "    .agg([\n",
    "        pl.mean(\"food_share_15d\"),\n",
    "        pl.mean(\"age\"),\n",
    "        pl.mean(\"is_women\"),\n",
    "    ])\n",
    ")\n",
    "# 回帰分析\n",
    "result = smf.ols(formula = \"response_att ~ is_treatment\", data = df).fit()\n",
    "result.summary()"
   ]
  },
  {
   "cell_type": "code",
   "execution_count": 15,
   "metadata": {},
   "outputs": [
    {
     "data": {
      "text/html": [
       "<div><style>\n",
       ".dataframe > thead > tr,\n",
       ".dataframe > tbody > tr {\n",
       "  text-align: right;\n",
       "  white-space: pre-wrap;\n",
       "}\n",
       "</style>\n",
       "<small>shape: (5, 5)</small><table border=\"1\" class=\"dataframe\"><thead><tr><th>is_treatment</th><th>response_att</th><th>food_share_15d</th><th>age</th><th>is_women</th></tr><tr><td>i64</td><td>i64</td><td>f64</td><td>f64</td><td>i64</td></tr></thead><tbody><tr><td>1</td><td>0</td><td>0.0</td><td>33.0</td><td>1</td></tr><tr><td>0</td><td>0</td><td>0.0</td><td>63.0</td><td>1</td></tr><tr><td>1</td><td>0</td><td>0.0</td><td>51.0</td><td>1</td></tr><tr><td>0</td><td>0</td><td>0.0</td><td>38.0</td><td>1</td></tr><tr><td>1</td><td>0</td><td>0.5105</td><td>20.0</td><td>1</td></tr></tbody></table></div>"
      ],
      "text/plain": [
       "shape: (5, 5)\n",
       "┌──────────────┬──────────────┬────────────────┬──────┬──────────┐\n",
       "│ is_treatment ┆ response_att ┆ food_share_15d ┆ age  ┆ is_women │\n",
       "│ ---          ┆ ---          ┆ ---            ┆ ---  ┆ ---      │\n",
       "│ i64          ┆ i64          ┆ f64            ┆ f64  ┆ i64      │\n",
       "╞══════════════╪══════════════╪════════════════╪══════╪══════════╡\n",
       "│ 1            ┆ 0            ┆ 0.0            ┆ 33.0 ┆ 1        │\n",
       "│ 0            ┆ 0            ┆ 0.0            ┆ 63.0 ┆ 1        │\n",
       "│ 1            ┆ 0            ┆ 0.0            ┆ 51.0 ┆ 1        │\n",
       "│ 0            ┆ 0            ┆ 0.0            ┆ 38.0 ┆ 1        │\n",
       "│ 1            ┆ 0            ┆ 0.5105         ┆ 20.0 ┆ 1        │\n",
       "└──────────────┴──────────────┴────────────────┴──────┴──────────┘"
      ]
     },
     "execution_count": 15,
     "metadata": {},
     "output_type": "execute_result"
    }
   ],
   "source": [
    "df.head(5)"
   ]
  },
  {
   "cell_type": "code",
   "execution_count": 16,
   "metadata": {},
   "outputs": [
    {
     "data": {
      "text/html": [
       "<div><style>\n",
       ".dataframe > thead > tr,\n",
       ".dataframe > tbody > tr {\n",
       "  text-align: right;\n",
       "  white-space: pre-wrap;\n",
       "}\n",
       "</style>\n",
       "<small>shape: (2, 4)</small><table border=\"1\" class=\"dataframe\"><thead><tr><th>is_treatment</th><th>food_share_15d</th><th>age</th><th>is_women</th></tr><tr><td>i64</td><td>f64</td><td>f64</td><td>f64</td></tr></thead><tbody><tr><td>0</td><td>0.34558</td><td>43.578986</td><td>0.618734</td></tr><tr><td>1</td><td>0.348872</td><td>43.803353</td><td>0.629673</td></tr></tbody></table></div>"
      ],
      "text/plain": [
       "shape: (2, 4)\n",
       "┌──────────────┬────────────────┬───────────┬──────────┐\n",
       "│ is_treatment ┆ food_share_15d ┆ age       ┆ is_women │\n",
       "│ ---          ┆ ---            ┆ ---       ┆ ---      │\n",
       "│ i64          ┆ f64            ┆ f64       ┆ f64      │\n",
       "╞══════════════╪════════════════╪═══════════╪══════════╡\n",
       "│ 0            ┆ 0.34558        ┆ 43.578986 ┆ 0.618734 │\n",
       "│ 1            ┆ 0.348872       ┆ 43.803353 ┆ 0.629673 │\n",
       "└──────────────┴────────────────┴───────────┴──────────┘"
      ]
     },
     "execution_count": 16,
     "metadata": {},
     "output_type": "execute_result"
    }
   ],
   "source": [
    "df_balance_test"
   ]
  },
  {
   "cell_type": "markdown",
   "metadata": {},
   "source": [
    "## （未収録） 共変量を加えても結果が大きく変わらないことを確認する"
   ]
  },
  {
   "cell_type": "code",
   "execution_count": 17,
   "metadata": {},
   "outputs": [
    {
     "data": {
      "text/html": [
       "<table class=\"simpletable\">\n",
       "<caption>OLS Regression Results</caption>\n",
       "<tr>\n",
       "  <th>Dep. Variable:</th>      <td>response_att</td>   <th>  R-squared:         </th> <td>   0.051</td> \n",
       "</tr>\n",
       "<tr>\n",
       "  <th>Model:</th>                   <td>OLS</td>       <th>  Adj. R-squared:    </th> <td>   0.051</td> \n",
       "</tr>\n",
       "<tr>\n",
       "  <th>Method:</th>             <td>Least Squares</td>  <th>  F-statistic:       </th> <td>   655.4</td> \n",
       "</tr>\n",
       "<tr>\n",
       "  <th>Date:</th>             <td>Thu, 13 Jun 2024</td> <th>  Prob (F-statistic):</th>  <td>  0.00</td>  \n",
       "</tr>\n",
       "<tr>\n",
       "  <th>Time:</th>                 <td>06:48:33</td>     <th>  Log-Likelihood:    </th> <td> -11048.</td> \n",
       "</tr>\n",
       "<tr>\n",
       "  <th>No. Observations:</th>      <td> 49152</td>      <th>  AIC:               </th> <td>2.211e+04</td>\n",
       "</tr>\n",
       "<tr>\n",
       "  <th>Df Residuals:</th>          <td> 49147</td>      <th>  BIC:               </th> <td>2.215e+04</td>\n",
       "</tr>\n",
       "<tr>\n",
       "  <th>Df Model:</th>              <td>     4</td>      <th>                     </th>     <td> </td>    \n",
       "</tr>\n",
       "<tr>\n",
       "  <th>Covariance Type:</th>      <td>nonrobust</td>    <th>                     </th>     <td> </td>    \n",
       "</tr>\n",
       "</table>\n",
       "<table class=\"simpletable\">\n",
       "<tr>\n",
       "         <td></td>           <th>coef</th>     <th>std err</th>      <th>t</th>      <th>P>|t|</th>  <th>[0.025</th>    <th>0.975]</th>  \n",
       "</tr>\n",
       "<tr>\n",
       "  <th>Intercept</th>      <td>    0.0539</td> <td>    0.005</td> <td>   10.555</td> <td> 0.000</td> <td>    0.044</td> <td>    0.064</td>\n",
       "</tr>\n",
       "<tr>\n",
       "  <th>is_treatment</th>   <td>    0.0072</td> <td>    0.003</td> <td>    2.285</td> <td> 0.022</td> <td>    0.001</td> <td>    0.013</td>\n",
       "</tr>\n",
       "<tr>\n",
       "  <th>food_share_15d</th> <td>    0.1713</td> <td>    0.003</td> <td>   51.131</td> <td> 0.000</td> <td>    0.165</td> <td>    0.178</td>\n",
       "</tr>\n",
       "<tr>\n",
       "  <th>age</th>            <td>   -0.0003</td> <td>  9.3e-05</td> <td>   -3.047</td> <td> 0.002</td> <td>   -0.000</td> <td>   -0.000</td>\n",
       "</tr>\n",
       "<tr>\n",
       "  <th>is_women</th>       <td>    0.0033</td> <td>    0.003</td> <td>    1.157</td> <td> 0.247</td> <td>   -0.002</td> <td>    0.009</td>\n",
       "</tr>\n",
       "</table>\n",
       "<table class=\"simpletable\">\n",
       "<tr>\n",
       "  <th>Omnibus:</th>       <td>21428.610</td> <th>  Durbin-Watson:     </th> <td>   2.002</td> \n",
       "</tr>\n",
       "<tr>\n",
       "  <th>Prob(Omnibus):</th>  <td> 0.000</td>   <th>  Jarque-Bera (JB):  </th> <td>75038.647</td>\n",
       "</tr>\n",
       "<tr>\n",
       "  <th>Skew:</th>           <td> 2.317</td>   <th>  Prob(JB):          </th> <td>    0.00</td> \n",
       "</tr>\n",
       "<tr>\n",
       "  <th>Kurtosis:</th>       <td> 6.895</td>   <th>  Cond. No.          </th> <td>    185.</td> \n",
       "</tr>\n",
       "</table><br/><br/>Notes:<br/>[1] Standard Errors assume that the covariance matrix of the errors is correctly specified."
      ],
      "text/latex": [
       "\\begin{center}\n",
       "\\begin{tabular}{lclc}\n",
       "\\toprule\n",
       "\\textbf{Dep. Variable:}    &  response\\_att   & \\textbf{  R-squared:         } &     0.051   \\\\\n",
       "\\textbf{Model:}            &       OLS        & \\textbf{  Adj. R-squared:    } &     0.051   \\\\\n",
       "\\textbf{Method:}           &  Least Squares   & \\textbf{  F-statistic:       } &     655.4   \\\\\n",
       "\\textbf{Date:}             & Thu, 13 Jun 2024 & \\textbf{  Prob (F-statistic):} &     0.00    \\\\\n",
       "\\textbf{Time:}             &     06:48:33     & \\textbf{  Log-Likelihood:    } &   -11048.   \\\\\n",
       "\\textbf{No. Observations:} &       49152      & \\textbf{  AIC:               } & 2.211e+04   \\\\\n",
       "\\textbf{Df Residuals:}     &       49147      & \\textbf{  BIC:               } & 2.215e+04   \\\\\n",
       "\\textbf{Df Model:}         &           4      & \\textbf{                     } &             \\\\\n",
       "\\textbf{Covariance Type:}  &    nonrobust     & \\textbf{                     } &             \\\\\n",
       "\\bottomrule\n",
       "\\end{tabular}\n",
       "\\begin{tabular}{lcccccc}\n",
       "                          & \\textbf{coef} & \\textbf{std err} & \\textbf{t} & \\textbf{P$> |$t$|$} & \\textbf{[0.025} & \\textbf{0.975]}  \\\\\n",
       "\\midrule\n",
       "\\textbf{Intercept}        &       0.0539  &        0.005     &    10.555  &         0.000        &        0.044    &        0.064     \\\\\n",
       "\\textbf{is\\_treatment}    &       0.0072  &        0.003     &     2.285  &         0.022        &        0.001    &        0.013     \\\\\n",
       "\\textbf{food\\_share\\_15d} &       0.1713  &        0.003     &    51.131  &         0.000        &        0.165    &        0.178     \\\\\n",
       "\\textbf{age}              &      -0.0003  &      9.3e-05     &    -3.047  &         0.002        &       -0.000    &       -0.000     \\\\\n",
       "\\textbf{is\\_women}        &       0.0033  &        0.003     &     1.157  &         0.247        &       -0.002    &        0.009     \\\\\n",
       "\\bottomrule\n",
       "\\end{tabular}\n",
       "\\begin{tabular}{lclc}\n",
       "\\textbf{Omnibus:}       & 21428.610 & \\textbf{  Durbin-Watson:     } &     2.002  \\\\\n",
       "\\textbf{Prob(Omnibus):} &    0.000  & \\textbf{  Jarque-Bera (JB):  } & 75038.647  \\\\\n",
       "\\textbf{Skew:}          &    2.317  & \\textbf{  Prob(JB):          } &      0.00  \\\\\n",
       "\\textbf{Kurtosis:}      &    6.895  & \\textbf{  Cond. No.          } &      185.  \\\\\n",
       "\\bottomrule\n",
       "\\end{tabular}\n",
       "%\\caption{OLS Regression Results}\n",
       "\\end{center}\n",
       "\n",
       "Notes: \\newline\n",
       " [1] Standard Errors assume that the covariance matrix of the errors is correctly specified."
      ],
      "text/plain": [
       "<class 'statsmodels.iolib.summary.Summary'>\n",
       "\"\"\"\n",
       "                            OLS Regression Results                            \n",
       "==============================================================================\n",
       "Dep. Variable:           response_att   R-squared:                       0.051\n",
       "Model:                            OLS   Adj. R-squared:                  0.051\n",
       "Method:                 Least Squares   F-statistic:                     655.4\n",
       "Date:                Thu, 13 Jun 2024   Prob (F-statistic):               0.00\n",
       "Time:                        06:48:33   Log-Likelihood:                -11048.\n",
       "No. Observations:               49152   AIC:                         2.211e+04\n",
       "Df Residuals:                   49147   BIC:                         2.215e+04\n",
       "Df Model:                           4                                         \n",
       "Covariance Type:            nonrobust                                         \n",
       "==================================================================================\n",
       "                     coef    std err          t      P>|t|      [0.025      0.975]\n",
       "----------------------------------------------------------------------------------\n",
       "Intercept          0.0539      0.005     10.555      0.000       0.044       0.064\n",
       "is_treatment       0.0072      0.003      2.285      0.022       0.001       0.013\n",
       "food_share_15d     0.1713      0.003     51.131      0.000       0.165       0.178\n",
       "age               -0.0003    9.3e-05     -3.047      0.002      -0.000      -0.000\n",
       "is_women           0.0033      0.003      1.157      0.247      -0.002       0.009\n",
       "==============================================================================\n",
       "Omnibus:                    21428.610   Durbin-Watson:                   2.002\n",
       "Prob(Omnibus):                  0.000   Jarque-Bera (JB):            75038.647\n",
       "Skew:                           2.317   Prob(JB):                         0.00\n",
       "Kurtosis:                       6.895   Cond. No.                         185.\n",
       "==============================================================================\n",
       "\n",
       "Notes:\n",
       "[1] Standard Errors assume that the covariance matrix of the errors is correctly specified.\n",
       "\"\"\""
      ]
     },
     "execution_count": 17,
     "metadata": {},
     "output_type": "execute_result"
    }
   ],
   "source": [
    "# 回帰分析\n",
    "result = smf.ols(\n",
    "    \"response_att ~ is_treatment + food_share_15d + age + is_women\",\n",
    "    data=df,\n",
    ").fit()\n",
    "result.summary()"
   ]
  },
  {
   "cell_type": "code",
   "execution_count": 18,
   "metadata": {},
   "outputs": [
    {
     "name": "stdout",
     "output_type": "stream",
     "text": [
      "Last updated: Thu Jun 13 2024\n",
      "\n",
      "Python implementation: CPython\n",
      "Python version       : 3.11.9\n",
      "IPython version      : 8.22.2\n",
      "\n",
      "polars     : 0.20.31\n",
      "statsmodels: 0.14.1\n",
      "numpy      : 1.26.4\n",
      "\n",
      "Watermark: 2.4.3\n",
      "\n"
     ]
    }
   ],
   "source": [
    "%load_ext watermark\n",
    "%watermark -n -u -v -iv -w"
   ]
  }
 ],
 "metadata": {
  "kernelspec": {
   "display_name": "pymc_env",
   "language": "python",
   "name": "python3"
  },
  "language_info": {
   "codemirror_mode": {
    "name": "ipython",
    "version": 3
   },
   "file_extension": ".py",
   "mimetype": "text/x-python",
   "name": "python",
   "nbconvert_exporter": "python",
   "pygments_lexer": "ipython3",
   "version": "3.11.9"
  }
 },
 "nbformat": 4,
 "nbformat_minor": 2
}
